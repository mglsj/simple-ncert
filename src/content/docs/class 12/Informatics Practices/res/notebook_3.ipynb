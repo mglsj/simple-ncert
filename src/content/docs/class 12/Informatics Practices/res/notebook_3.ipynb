{
 "cells": [
  {
   "cell_type": "code",
   "execution_count": 408,
   "metadata": {},
   "outputs": [
    {
     "name": "stdout",
     "output_type": "stream",
     "text": [
      "       Name  UT  Maths  Science  S.St  Hindi  Eng\n",
      "0     Raman   1     22       21    18     20   21\n",
      "1     Raman   2     21       20    17     22   24\n",
      "2     Raman   3     14       19    15     24   23\n",
      "3   Zuhaire   1     20       17    22     24   19\n",
      "4   Zuhaire   2     23       15    21     25   15\n",
      "5   Zuhaire   3     22       18    19     23   13\n",
      "6   Ashravy   1     23       19    20     15   22\n",
      "7   Ashravy   2     24       22    24     17   21\n",
      "8   Ashravy   3     12       25    19     21   23\n",
      "9    Mishti   1     15       22    25     22   22\n",
      "10   Mishti   2     18       21    25     24   23\n",
      "11   Mishti   3     17       18    20     25   20\n"
     ]
    }
   ],
   "source": [
    "import pandas as pd\n",
    "\n",
    "marksUT = {\n",
    "    \"Name\": [\n",
    "        \"Raman\",\n",
    "        \"Raman\",\n",
    "        \"Raman\",\n",
    "        \"Zuhaire\",\n",
    "        \"Zuhaire\",\n",
    "        \"Zuhaire\",\n",
    "        \"Ashravy\",\n",
    "        \"Ashravy\",\n",
    "        \"Ashravy\",\n",
    "        \"Mishti\",\n",
    "        \"Mishti\",\n",
    "        \"Mishti\",\n",
    "    ],\n",
    "    \"UT\": [1, 2, 3, 1, 2, 3, 1, 2, 3, 1, 2, 3],\n",
    "    \"Maths\": [22, 21, 14, 20, 23, 22, 23, 24, 12, 15, 18, 17],\n",
    "    \"Science\": [21, 20, 19, 17, 15, 18, 19, 22, 25, 22, 21, 18],\n",
    "    \"S.St\": [18, 17, 15, 22, 21, 19, 20, 24, 19, 25, 25, 20],\n",
    "    \"Hindi\": [20, 22, 24, 24, 25, 23, 15, 17, 21, 22, 24, 25],\n",
    "    \"Eng\": [21, 24, 23, 19, 15, 13, 22, 21, 23, 22, 23, 20],\n",
    "}\n",
    "\n",
    "df = pd.DataFrame(marksUT)\n",
    "print(df)"
   ]
  },
  {
   "cell_type": "code",
   "execution_count": 409,
   "metadata": {},
   "outputs": [
    {
     "name": "stdout",
     "output_type": "stream",
     "text": [
      "Name       Zuhaire\n",
      "UT               3\n",
      "Maths           24\n",
      "Science         25\n",
      "S.St            25\n",
      "Hindi           25\n",
      "Eng             24\n",
      "dtype: object\n"
     ]
    }
   ],
   "source": [
    "print(df.max())"
   ]
  },
  {
   "cell_type": "code",
   "execution_count": 410,
   "metadata": {},
   "outputs": [
    {
     "name": "stdout",
     "output_type": "stream",
     "text": [
      "UT          3\n",
      "Maths      24\n",
      "Science    25\n",
      "S.St       25\n",
      "Hindi      25\n",
      "Eng        24\n",
      "dtype: int64\n"
     ]
    }
   ],
   "source": [
    "print(df.max(numeric_only=True))"
   ]
  },
  {
   "cell_type": "code",
   "execution_count": 411,
   "metadata": {},
   "outputs": [
    {
     "name": "stdout",
     "output_type": "stream",
     "text": [
      "Result of Unit Test 2:\n",
      "\n",
      "       Name  UT  Maths  Science  S.St  Hindi  Eng\n",
      "1     Raman   2     21       20    17     22   24\n",
      "4   Zuhaire   2     23       15    21     25   15\n",
      "7   Ashravy   2     24       22    24     17   21\n",
      "10   Mishti   2     18       21    25     24   23\n"
     ]
    }
   ],
   "source": [
    "dfUT2 = df[df.UT == 2]\n",
    "print(\"Result of Unit Test 2:\\n\")\n",
    "print(dfUT2)"
   ]
  },
  {
   "cell_type": "code",
   "execution_count": 412,
   "metadata": {},
   "outputs": [
    {
     "name": "stdout",
     "output_type": "stream",
     "text": [
      "Maximum Mark obtained inEach Subject in Unit Test 2:\n",
      "\n",
      "UT          2\n",
      "Maths      24\n",
      "Science    22\n",
      "S.St       25\n",
      "Hindi      25\n",
      "Eng        24\n",
      "dtype: int64\n"
     ]
    }
   ],
   "source": [
    "print(\"Maximum Mark obtained inEach Subject in Unit Test 2:\\n\")\n",
    "print(dfUT2.max(numeric_only=True))"
   ]
  },
  {
   "cell_type": "code",
   "execution_count": 413,
   "metadata": {},
   "outputs": [
    {
     "name": "stdout",
     "output_type": "stream",
     "text": [
      "UT          2\n",
      "Maths      24\n",
      "Science    22\n",
      "S.St       25\n",
      "Hindi      25\n",
      "Eng        24\n",
      "dtype: int64\n"
     ]
    }
   ],
   "source": [
    "dfUT2 = df[df[\"UT\"] == 2].max(numeric_only=True)\n",
    "print(dfUT2)"
   ]
  },
  {
   "cell_type": "code",
   "execution_count": 414,
   "metadata": {},
   "outputs": [
    {
     "data": {
      "text/plain": [
       "0     22\n",
       "1     24\n",
       "2     24\n",
       "3     24\n",
       "4     25\n",
       "5     23\n",
       "6     23\n",
       "7     24\n",
       "8     25\n",
       "9     25\n",
       "10    25\n",
       "11    25\n",
       "dtype: int64"
      ]
     },
     "execution_count": 414,
     "metadata": {},
     "output_type": "execute_result"
    }
   ],
   "source": [
    "# maximum marks for each student in each unit test among all the subjects\n",
    "df.max(axis=1, numeric_only=True)"
   ]
  },
  {
   "cell_type": "code",
   "execution_count": 415,
   "metadata": {},
   "outputs": [
    {
     "name": "stdout",
     "output_type": "stream",
     "text": [
      "Name       Ashravy\n",
      "UT               1\n",
      "Maths           12\n",
      "Science         15\n",
      "S.St            15\n",
      "Hindi           15\n",
      "Eng             13\n",
      "dtype: object\n"
     ]
    }
   ],
   "source": [
    "print(df.min())"
   ]
  },
  {
   "cell_type": "code",
   "execution_count": 416,
   "metadata": {},
   "outputs": [
    {
     "name": "stdout",
     "output_type": "stream",
     "text": [
      "Marks obtained by Mishti in allthe Unit Tests:\n",
      "\n",
      "      Name  UT  Maths  Science  S.St  Hindi  Eng\n",
      "9   Mishti   1     15       22    25     22   22\n",
      "10  Mishti   2     18       21    25     24   23\n",
      "11  Mishti   3     17       18    20     25   20\n"
     ]
    }
   ],
   "source": [
    "dfMishti = df.loc[df.Name == \"Mishti\"]\n",
    "print(\"Marks obtained by Mishti in allthe Unit Tests:\\n\")\n",
    "print(dfMishti)"
   ]
  },
  {
   "cell_type": "code",
   "execution_count": 417,
   "metadata": {},
   "outputs": [
    {
     "name": "stdout",
     "output_type": "stream",
     "text": [
      "Minimum Marks obtained by Mishti in each subject across the unit tests:\n",
      "\n",
      "Maths      15\n",
      "Science    18\n",
      "S.St       20\n",
      "Hindi      22\n",
      "Eng        20\n",
      "dtype: int64\n"
     ]
    }
   ],
   "source": [
    "print(\"Minimum Marks obtained by Mishti in each subject across the unit tests:\\n\")\n",
    "print(dfMishti[[\"Maths\", \"Science\", \"S.St\", \"Hindi\", \"Eng\"]].min())"
   ]
  },
  {
   "cell_type": "code",
   "execution_count": 418,
   "metadata": {},
   "outputs": [
    {
     "name": "stdout",
     "output_type": "stream",
     "text": [
      "Maths      15\n",
      "Science    18\n",
      "S.St       20\n",
      "Hindi      22\n",
      "Eng        20\n",
      "dtype: int64\n"
     ]
    }
   ],
   "source": [
    "dfMishti = df[\n",
    "    [\n",
    "        \"Maths\",\n",
    "        \"Science\",\n",
    "        \"S.St\",\n",
    "        \"Hindi\",\n",
    "        \"Eng\",\n",
    "    ]\n",
    "][df.Name == \"Mishti\"].min()\n",
    "\n",
    "print(dfMishti)"
   ]
  },
  {
   "cell_type": "code",
   "execution_count": 419,
   "metadata": {},
   "outputs": [
    {
     "name": "stdout",
     "output_type": "stream",
     "text": [
      "Name       RamanRamanRamanZuhaireZuhaireZuhaireAshravyAsh...\n",
      "UT                                                        24\n",
      "Maths                                                    231\n",
      "Science                                                  237\n",
      "S.St                                                     245\n",
      "Hindi                                                    262\n",
      "Eng                                                      246\n",
      "dtype: object\n"
     ]
    }
   ],
   "source": [
    "print(df.sum())"
   ]
  },
  {
   "cell_type": "code",
   "execution_count": 420,
   "metadata": {},
   "outputs": [
    {
     "name": "stdout",
     "output_type": "stream",
     "text": [
      "231\n"
     ]
    }
   ],
   "source": [
    "print(df[\"Maths\"].sum())"
   ]
  },
  {
   "cell_type": "code",
   "execution_count": 421,
   "metadata": {},
   "outputs": [
    {
     "name": "stdout",
     "output_type": "stream",
     "text": [
      "Marks obtained by Raman in each test are:\n",
      "\n",
      "    Name  UT  Maths  Science  S.St  Hindi  Eng\n",
      "0  Raman   1     22       21    18     20   21\n",
      "1  Raman   2     21       20    17     22   24\n",
      "2  Raman   3     14       19    15     24   23\n"
     ]
    }
   ],
   "source": [
    "dfRaman = df[df[\"Name\"] == \"Raman\"]\n",
    "print(\"Marks obtained by Raman in each test are:\\n\")\n",
    "print(dfRaman)"
   ]
  },
  {
   "cell_type": "code",
   "execution_count": 422,
   "metadata": {},
   "outputs": [
    {
     "data": {
      "text/plain": [
       "Maths      57\n",
       "Science    60\n",
       "S.St       50\n",
       "Hindi      66\n",
       "Eng        68\n",
       "dtype: int64"
      ]
     },
     "execution_count": 422,
     "metadata": {},
     "output_type": "execute_result"
    }
   ],
   "source": [
    "dfRaman[\n",
    "    [\n",
    "        \"Maths\",\n",
    "        \"Science\",\n",
    "        \"S.St\",\n",
    "        \"Hindi\",\n",
    "        \"Eng\",\n",
    "    ]\n",
    "].sum()"
   ]
  },
  {
   "cell_type": "code",
   "execution_count": 423,
   "metadata": {},
   "outputs": [
    {
     "data": {
      "text/plain": [
       "0    102\n",
       "1    104\n",
       "2     95\n",
       "dtype: int64"
      ]
     },
     "execution_count": 423,
     "metadata": {},
     "output_type": "execute_result"
    }
   ],
   "source": [
    "# To print total marks scored by Raman\n",
    "# in all subjects in each Unit Test\n",
    "dfRaman[\n",
    "    [\n",
    "        \"Maths\",\n",
    "        \"Science\",\n",
    "        \"S.St\",\n",
    "        \"Hindi\",\n",
    "        \"Eng\",\n",
    "    ]\n",
    "].sum(axis=1)"
   ]
  },
  {
   "cell_type": "code",
   "execution_count": 424,
   "metadata": {},
   "outputs": [
    {
     "name": "stdout",
     "output_type": "stream",
     "text": [
      "Name       12\n",
      "UT         12\n",
      "Maths      12\n",
      "Science    12\n",
      "S.St       12\n",
      "Hindi      12\n",
      "Eng        12\n",
      "dtype: int64\n"
     ]
    }
   ],
   "source": [
    "print(df.count())"
   ]
  },
  {
   "cell_type": "code",
   "execution_count": 425,
   "metadata": {},
   "outputs": [
    {
     "data": {
      "text/plain": [
       "0     7\n",
       "1     7\n",
       "2     7\n",
       "3     7\n",
       "4     7\n",
       "5     7\n",
       "6     7\n",
       "7     7\n",
       "8     7\n",
       "9     7\n",
       "10    7\n",
       "11    7\n",
       "dtype: int64"
      ]
     },
     "execution_count": 425,
     "metadata": {},
     "output_type": "execute_result"
    }
   ],
   "source": [
    "df.count(axis=1)"
   ]
  },
  {
   "cell_type": "code",
   "execution_count": 426,
   "metadata": {},
   "outputs": [
    {
     "data": {
      "text/plain": [
       "UT          2.000000\n",
       "Maths      19.250000\n",
       "Science    19.750000\n",
       "S.St       20.416667\n",
       "Hindi      21.833333\n",
       "Eng        20.500000\n",
       "dtype: float64"
      ]
     },
     "execution_count": 426,
     "metadata": {},
     "output_type": "execute_result"
    }
   ],
   "source": [
    "df.mean(numeric_only=True)"
   ]
  },
  {
   "cell_type": "code",
   "execution_count": 427,
   "metadata": {},
   "outputs": [
    {
     "name": "stdout",
     "output_type": "stream",
     "text": [
      "Slicing of the DataFrame to get only the marks:\n",
      "\n",
      "   Maths  Science  S.St  Hindi  Eng\n",
      "3     20       17    22     24   19\n",
      "4     23       15    21     25   15\n",
      "5     22       18    19     23   13\n"
     ]
    }
   ],
   "source": [
    "dfZuhaire = df[df.Name == \"Zuhaire\"]\n",
    "\n",
    "dfZuhaireMarks = dfZuhaire.loc[:, \"Maths\":\"Eng\"]\n",
    "print(\"Slicing of the DataFrame to get only the marks:\\n\")\n",
    "print(dfZuhaireMarks)"
   ]
  },
  {
   "cell_type": "code",
   "execution_count": 428,
   "metadata": {},
   "outputs": [
    {
     "name": "stdout",
     "output_type": "stream",
     "text": [
      "Average of marks obtained by Zuhaire in all Unit Tests:\n",
      "\n",
      "3    20.4\n",
      "4    19.8\n",
      "5    19.0\n",
      "dtype: float64\n"
     ]
    }
   ],
   "source": [
    "print(\"Average of marks obtained by Zuhaire in all Unit Tests:\\n\")\n",
    "print(dfZuhaireMarks.mean(axis=1))"
   ]
  },
  {
   "cell_type": "code",
   "execution_count": 429,
   "metadata": {},
   "outputs": [
    {
     "name": "stdout",
     "output_type": "stream",
     "text": [
      "UT          2.0\n",
      "Maths      20.5\n",
      "Science    19.5\n",
      "S.St       20.0\n",
      "Hindi      22.5\n",
      "Eng        21.5\n",
      "dtype: float64\n"
     ]
    }
   ],
   "source": [
    "print(df.median(numeric_only=True))"
   ]
  },
  {
   "cell_type": "code",
   "execution_count": 430,
   "metadata": {},
   "outputs": [
    {
     "name": "stdout",
     "output_type": "stream",
     "text": [
      "Displaying the marks scored in Mathematics in UT1:\n",
      "\n",
      "0    22\n",
      "3    20\n",
      "6    23\n",
      "9    15\n",
      "Name: Maths, dtype: int64\n"
     ]
    }
   ],
   "source": [
    "dfMaths = df[\"Maths\"]\n",
    "dfMathsUT1 = dfMaths[df.UT == 1]\n",
    "\n",
    "print(\"Displaying the marks scored in Mathematics in UT1:\\n\")\n",
    "print(dfMathsUT1)"
   ]
  },
  {
   "cell_type": "code",
   "execution_count": 431,
   "metadata": {},
   "outputs": [
    {
     "name": "stdout",
     "output_type": "stream",
     "text": [
      "Displaying the median of Mathematics in UT1:\n",
      "\n",
      "21.0\n"
     ]
    }
   ],
   "source": [
    "dfMathMedian = dfMathsUT1.median()\n",
    "\n",
    "print(\"Displaying the median of Mathematics in UT1:\\n\")\n",
    "print(dfMathMedian)"
   ]
  },
  {
   "cell_type": "code",
   "execution_count": 432,
   "metadata": {},
   "outputs": [
    {
     "data": {
      "text/plain": [
       "0     20\n",
       "1     22\n",
       "2     24\n",
       "3     24\n",
       "4     25\n",
       "5     23\n",
       "6     15\n",
       "7     17\n",
       "8     21\n",
       "9     22\n",
       "10    24\n",
       "11    25\n",
       "Name: Hindi, dtype: int64"
      ]
     },
     "execution_count": 432,
     "metadata": {},
     "output_type": "execute_result"
    }
   ],
   "source": [
    "df[\"Hindi\"]"
   ]
  },
  {
   "cell_type": "code",
   "execution_count": 433,
   "metadata": {},
   "outputs": [
    {
     "data": {
      "text/plain": [
       "0    24\n",
       "Name: Hindi, dtype: int64"
      ]
     },
     "execution_count": 433,
     "metadata": {},
     "output_type": "execute_result"
    }
   ],
   "source": [
    "df[\"Hindi\"].mode()"
   ]
  },
  {
   "cell_type": "code",
   "execution_count": 434,
   "metadata": {},
   "outputs": [
    {
     "data": {
      "text/plain": [
       "UT          2.0\n",
       "Maths      20.5\n",
       "Science    19.5\n",
       "S.St       20.0\n",
       "Hindi      22.5\n",
       "Eng        21.5\n",
       "Name: 0.5, dtype: float64"
      ]
     },
     "execution_count": 434,
     "metadata": {},
     "output_type": "execute_result"
    }
   ],
   "source": [
    "df.quantile(numeric_only=True)  # by default, median is the output"
   ]
  },
  {
   "cell_type": "code",
   "execution_count": 435,
   "metadata": {},
   "outputs": [
    {
     "data": {
      "text/plain": [
       "UT          1.00\n",
       "Maths      16.50\n",
       "Science    18.00\n",
       "S.St       18.75\n",
       "Hindi      20.75\n",
       "Eng        19.75\n",
       "Name: 0.25, dtype: float64"
      ]
     },
     "execution_count": 435,
     "metadata": {},
     "output_type": "execute_result"
    }
   ],
   "source": [
    "df.quantile(q=0.25, numeric_only=True)"
   ]
  },
  {
   "cell_type": "code",
   "execution_count": 436,
   "metadata": {},
   "outputs": [
    {
     "data": {
      "text/plain": [
       "UT          3.00\n",
       "Maths      22.25\n",
       "Science    21.25\n",
       "S.St       22.50\n",
       "Hindi      24.00\n",
       "Eng        23.00\n",
       "Name: 0.75, dtype: float64"
      ]
     },
     "execution_count": 436,
     "metadata": {},
     "output_type": "execute_result"
    }
   ],
   "source": [
    "df.quantile(q=0.75, numeric_only=True)"
   ]
  },
  {
   "cell_type": "code",
   "execution_count": 437,
   "metadata": {},
   "outputs": [
    {
     "name": "stdout",
     "output_type": "stream",
     "text": [
      "Marks of all the subjects:\n",
      "\n",
      "    Maths  Science  S.St  Hindi  Eng\n",
      "0      22       21    18     20   21\n",
      "1      21       20    17     22   24\n",
      "2      14       19    15     24   23\n",
      "3      20       17    22     24   19\n",
      "4      23       15    21     25   15\n",
      "5      22       18    19     23   13\n",
      "6      23       19    20     15   22\n",
      "7      24       22    24     17   21\n",
      "8      12       25    19     21   23\n",
      "9      15       22    25     22   22\n",
      "10     18       21    25     24   23\n",
      "11     17       18    20     25   20\n"
     ]
    }
   ],
   "source": [
    "dfSubject = df[[\"Maths\", \"Science\", \"S.St\", \"Hindi\", \"Eng\"]]\n",
    "\n",
    "print(\"Marks of all the subjects:\\n\")\n",
    "print(dfSubject)"
   ]
  },
  {
   "cell_type": "code",
   "execution_count": 438,
   "metadata": {},
   "outputs": [
    {
     "name": "stdout",
     "output_type": "stream",
     "text": [
      "First and third quartiles of all the subjects:\n",
      "\n",
      "      Maths  Science   S.St  Hindi    Eng\n",
      "0.25  16.50    18.00  18.75  20.75  19.75\n",
      "0.75  22.25    21.25  22.50  24.00  23.00\n"
     ]
    }
   ],
   "source": [
    "dfQ = dfSubject.quantile([0.25, 0.75])\n",
    "\n",
    "print(\"First and third quartiles of all the subjects:\\n\")\n",
    "print(dfQ)"
   ]
  },
  {
   "cell_type": "code",
   "execution_count": 439,
   "metadata": {},
   "outputs": [
    {
     "data": {
      "text/plain": [
       "Maths      15.840909\n",
       "Science     7.113636\n",
       "S.St        9.901515\n",
       "Hindi       9.969697\n",
       "Eng        11.363636\n",
       "dtype: float64"
      ]
     },
     "execution_count": 439,
     "metadata": {},
     "output_type": "execute_result"
    }
   ],
   "source": [
    "df[[\"Maths\", \"Science\", \"S.St\", \"Hindi\", \"Eng\"]].var()"
   ]
  },
  {
   "cell_type": "code",
   "execution_count": 440,
   "metadata": {},
   "outputs": [
    {
     "data": {
      "text/plain": [
       "Maths      3.980064\n",
       "Science    2.667140\n",
       "S.St       3.146667\n",
       "Hindi      3.157483\n",
       "Eng        3.370999\n",
       "dtype: float64"
      ]
     },
     "execution_count": 440,
     "metadata": {},
     "output_type": "execute_result"
    }
   ],
   "source": [
    "df[[\"Maths\", \"Science\", \"S.St\", \"Hindi\", \"Eng\"]].std()"
   ]
  },
  {
   "cell_type": "code",
   "execution_count": 441,
   "metadata": {},
   "outputs": [
    {
     "data": {
      "text/html": [
       "<div>\n",
       "<style scoped>\n",
       "    .dataframe tbody tr th:only-of-type {\n",
       "        vertical-align: middle;\n",
       "    }\n",
       "\n",
       "    .dataframe tbody tr th {\n",
       "        vertical-align: top;\n",
       "    }\n",
       "\n",
       "    .dataframe thead th {\n",
       "        text-align: right;\n",
       "    }\n",
       "</style>\n",
       "<table border=\"1\" class=\"dataframe\">\n",
       "  <thead>\n",
       "    <tr style=\"text-align: right;\">\n",
       "      <th></th>\n",
       "      <th>UT</th>\n",
       "      <th>Maths</th>\n",
       "      <th>Science</th>\n",
       "      <th>S.St</th>\n",
       "      <th>Hindi</th>\n",
       "      <th>Eng</th>\n",
       "    </tr>\n",
       "  </thead>\n",
       "  <tbody>\n",
       "    <tr>\n",
       "      <th>count</th>\n",
       "      <td>12.000000</td>\n",
       "      <td>12.000000</td>\n",
       "      <td>12.00000</td>\n",
       "      <td>12.000000</td>\n",
       "      <td>12.000000</td>\n",
       "      <td>12.000000</td>\n",
       "    </tr>\n",
       "    <tr>\n",
       "      <th>mean</th>\n",
       "      <td>2.000000</td>\n",
       "      <td>19.250000</td>\n",
       "      <td>19.75000</td>\n",
       "      <td>20.416667</td>\n",
       "      <td>21.833333</td>\n",
       "      <td>20.500000</td>\n",
       "    </tr>\n",
       "    <tr>\n",
       "      <th>std</th>\n",
       "      <td>0.852803</td>\n",
       "      <td>3.980064</td>\n",
       "      <td>2.66714</td>\n",
       "      <td>3.146667</td>\n",
       "      <td>3.157483</td>\n",
       "      <td>3.370999</td>\n",
       "    </tr>\n",
       "    <tr>\n",
       "      <th>min</th>\n",
       "      <td>1.000000</td>\n",
       "      <td>12.000000</td>\n",
       "      <td>15.00000</td>\n",
       "      <td>15.000000</td>\n",
       "      <td>15.000000</td>\n",
       "      <td>13.000000</td>\n",
       "    </tr>\n",
       "    <tr>\n",
       "      <th>25%</th>\n",
       "      <td>1.000000</td>\n",
       "      <td>16.500000</td>\n",
       "      <td>18.00000</td>\n",
       "      <td>18.750000</td>\n",
       "      <td>20.750000</td>\n",
       "      <td>19.750000</td>\n",
       "    </tr>\n",
       "    <tr>\n",
       "      <th>50%</th>\n",
       "      <td>2.000000</td>\n",
       "      <td>20.500000</td>\n",
       "      <td>19.50000</td>\n",
       "      <td>20.000000</td>\n",
       "      <td>22.500000</td>\n",
       "      <td>21.500000</td>\n",
       "    </tr>\n",
       "    <tr>\n",
       "      <th>75%</th>\n",
       "      <td>3.000000</td>\n",
       "      <td>22.250000</td>\n",
       "      <td>21.25000</td>\n",
       "      <td>22.500000</td>\n",
       "      <td>24.000000</td>\n",
       "      <td>23.000000</td>\n",
       "    </tr>\n",
       "    <tr>\n",
       "      <th>max</th>\n",
       "      <td>3.000000</td>\n",
       "      <td>24.000000</td>\n",
       "      <td>25.00000</td>\n",
       "      <td>25.000000</td>\n",
       "      <td>25.000000</td>\n",
       "      <td>24.000000</td>\n",
       "    </tr>\n",
       "  </tbody>\n",
       "</table>\n",
       "</div>"
      ],
      "text/plain": [
       "              UT      Maths   Science       S.St      Hindi        Eng\n",
       "count  12.000000  12.000000  12.00000  12.000000  12.000000  12.000000\n",
       "mean    2.000000  19.250000  19.75000  20.416667  21.833333  20.500000\n",
       "std     0.852803   3.980064   2.66714   3.146667   3.157483   3.370999\n",
       "min     1.000000  12.000000  15.00000  15.000000  15.000000  13.000000\n",
       "25%     1.000000  16.500000  18.00000  18.750000  20.750000  19.750000\n",
       "50%     2.000000  20.500000  19.50000  20.000000  22.500000  21.500000\n",
       "75%     3.000000  22.250000  21.25000  22.500000  24.000000  23.000000\n",
       "max     3.000000  24.000000  25.00000  25.000000  25.000000  24.000000"
      ]
     },
     "execution_count": 441,
     "metadata": {},
     "output_type": "execute_result"
    }
   ],
   "source": [
    "df.describe()"
   ]
  },
  {
   "cell_type": "code",
   "execution_count": 442,
   "metadata": {},
   "outputs": [
    {
     "data": {
      "text/plain": [
       "Name       Zuhaire\n",
       "UT               3\n",
       "Maths           24\n",
       "Science         25\n",
       "S.St            25\n",
       "Hindi           25\n",
       "Eng             24\n",
       "dtype: object"
      ]
     },
     "execution_count": 442,
     "metadata": {},
     "output_type": "execute_result"
    }
   ],
   "source": [
    "df.aggregate(\"max\")"
   ]
  },
  {
   "cell_type": "code",
   "execution_count": 443,
   "metadata": {},
   "outputs": [
    {
     "data": {
      "text/html": [
       "<div>\n",
       "<style scoped>\n",
       "    .dataframe tbody tr th:only-of-type {\n",
       "        vertical-align: middle;\n",
       "    }\n",
       "\n",
       "    .dataframe tbody tr th {\n",
       "        vertical-align: top;\n",
       "    }\n",
       "\n",
       "    .dataframe thead th {\n",
       "        text-align: right;\n",
       "    }\n",
       "</style>\n",
       "<table border=\"1\" class=\"dataframe\">\n",
       "  <thead>\n",
       "    <tr style=\"text-align: right;\">\n",
       "      <th></th>\n",
       "      <th>Name</th>\n",
       "      <th>UT</th>\n",
       "      <th>Maths</th>\n",
       "      <th>Science</th>\n",
       "      <th>S.St</th>\n",
       "      <th>Hindi</th>\n",
       "      <th>Eng</th>\n",
       "    </tr>\n",
       "  </thead>\n",
       "  <tbody>\n",
       "    <tr>\n",
       "      <th>max</th>\n",
       "      <td>Zuhaire</td>\n",
       "      <td>3</td>\n",
       "      <td>24</td>\n",
       "      <td>25</td>\n",
       "      <td>25</td>\n",
       "      <td>25</td>\n",
       "      <td>24</td>\n",
       "    </tr>\n",
       "    <tr>\n",
       "      <th>count</th>\n",
       "      <td>12</td>\n",
       "      <td>12</td>\n",
       "      <td>12</td>\n",
       "      <td>12</td>\n",
       "      <td>12</td>\n",
       "      <td>12</td>\n",
       "      <td>12</td>\n",
       "    </tr>\n",
       "  </tbody>\n",
       "</table>\n",
       "</div>"
      ],
      "text/plain": [
       "          Name  UT  Maths  Science  S.St  Hindi  Eng\n",
       "max    Zuhaire   3     24       25    25     25   24\n",
       "count       12  12     12       12    12     12   12"
      ]
     },
     "execution_count": 443,
     "metadata": {},
     "output_type": "execute_result"
    }
   ],
   "source": [
    "# To use multiple aggregate functions in asingle statement\n",
    "df.aggregate([\"max\", \"count\"])"
   ]
  },
  {
   "cell_type": "code",
   "execution_count": 444,
   "metadata": {},
   "outputs": [
    {
     "data": {
      "text/plain": [
       "max    24\n",
       "min    12\n",
       "Name: Maths, dtype: int64"
      ]
     },
     "execution_count": 444,
     "metadata": {},
     "output_type": "execute_result"
    }
   ],
   "source": [
    "df[\"Maths\"].aggregate([\"max\", \"min\"])"
   ]
  },
  {
   "cell_type": "code",
   "execution_count": 445,
   "metadata": {},
   "outputs": [
    {
     "data": {
      "text/plain": [
       "max    24\n",
       "min    12\n",
       "Name: Maths, dtype: int64"
      ]
     },
     "execution_count": 445,
     "metadata": {},
     "output_type": "execute_result"
    }
   ],
   "source": [
    "# Using the above statement with axis=0 givesthe same result\n",
    "df[\"Maths\"].aggregate([\"max\", \"min\"], axis=0)"
   ]
  },
  {
   "cell_type": "code",
   "execution_count": 446,
   "metadata": {},
   "outputs": [
    {
     "data": {
      "text/plain": [
       "0     43\n",
       "1     41\n",
       "2     33\n",
       "3     37\n",
       "4     38\n",
       "5     40\n",
       "6     42\n",
       "7     46\n",
       "8     37\n",
       "9     37\n",
       "10    39\n",
       "11    35\n",
       "dtype: int64"
      ]
     },
     "execution_count": 446,
     "metadata": {},
     "output_type": "execute_result"
    }
   ],
   "source": [
    "# Total marks of Maths and Science obtained byeach student.\n",
    "# Use sum() with axis=1 (Row-wise summation)\n",
    "df[[\"Maths\", \"Science\"]].aggregate(\"sum\", axis=1)"
   ]
  },
  {
   "cell_type": "markdown",
   "metadata": {},
   "source": [
    "```py\n",
    "DataFrame.sort_values(by, axis=0, ascending=True)\n",
    "```"
   ]
  },
  {
   "cell_type": "code",
   "execution_count": 447,
   "metadata": {},
   "outputs": [
    {
     "name": "stdout",
     "output_type": "stream",
     "text": [
      "       Name  UT  Maths  Science  S.St  Hindi  Eng\n",
      "6   Ashravy   1     23       19    20     15   22\n",
      "7   Ashravy   2     24       22    24     17   21\n",
      "8   Ashravy   3     12       25    19     21   23\n",
      "9    Mishti   1     15       22    25     22   22\n",
      "10   Mishti   2     18       21    25     24   23\n",
      "11   Mishti   3     17       18    20     25   20\n",
      "0     Raman   1     22       21    18     20   21\n",
      "1     Raman   2     21       20    17     22   24\n",
      "2     Raman   3     14       19    15     24   23\n",
      "3   Zuhaire   1     20       17    22     24   19\n",
      "4   Zuhaire   2     23       15    21     25   15\n",
      "5   Zuhaire   3     22       18    19     23   13\n"
     ]
    }
   ],
   "source": [
    "# By default, sorting is done in ascending order.\n",
    "print(df.sort_values(by=[\"Name\"]))"
   ]
  },
  {
   "cell_type": "code",
   "execution_count": 448,
   "metadata": {},
   "outputs": [
    {
     "name": "stdout",
     "output_type": "stream",
     "text": [
      "       Name  UT  Maths  Science  S.St  Hindi  Eng\n",
      "4   Zuhaire   2     23       15    21     25   15\n",
      "1     Raman   2     21       20    17     22   24\n",
      "10   Mishti   2     18       21    25     24   23\n",
      "7   Ashravy   2     24       22    24     17   21\n"
     ]
    }
   ],
   "source": [
    "# Get the data corresponding to Unit Test 2\n",
    "dfUT2 = df[df.UT == 2]\n",
    "\n",
    "# Sort according to ascending order of marks in Science\n",
    "print(dfUT2.sort_values(by=[\"Science\"]))"
   ]
  },
  {
   "cell_type": "code",
   "execution_count": 449,
   "metadata": {},
   "outputs": [
    {
     "name": "stdout",
     "output_type": "stream",
     "text": [
      "       Name  UT  Maths  Science  S.St  Hindi  Eng\n",
      "2     Raman   3     14       19    15     24   23\n",
      "8   Ashravy   3     12       25    19     21   23\n",
      "11   Mishti   3     17       18    20     25   20\n",
      "5   Zuhaire   3     22       18    19     23   13\n"
     ]
    }
   ],
   "source": [
    "# Get the data corresponding to Unit Test 3\n",
    "dfUT3 = df[df.UT == 3]\n",
    "\n",
    "# Sort according to descending order of marks in English\n",
    "print(dfUT3.sort_values(by=[\"Eng\"], ascending=False))"
   ]
  },
  {
   "cell_type": "code",
   "execution_count": 450,
   "metadata": {},
   "outputs": [
    {
     "name": "stdout",
     "output_type": "stream",
     "text": [
      "       Name  UT  Maths  Science  S.St  Hindi  Eng\n",
      "5   Zuhaire   3     22       18    19     23   13\n",
      "11   Mishti   3     17       18    20     25   20\n",
      "2     Raman   3     14       19    15     24   23\n",
      "8   Ashravy   3     12       25    19     21   23\n"
     ]
    }
   ],
   "source": [
    "# Get the data corresponding to marks in Unit Test3\n",
    "dfUT3 = df[df.UT == 3]\n",
    "\n",
    "# Sort the data according to Science and then according to Hindi\n",
    "print(dfUT3.sort_values(by=[\"Science\", \"Hindi\"]))"
   ]
  },
  {
   "cell_type": "code",
   "execution_count": 451,
   "metadata": {},
   "outputs": [
    {
     "data": {
      "text/html": [
       "<div>\n",
       "<style scoped>\n",
       "    .dataframe tbody tr th:only-of-type {\n",
       "        vertical-align: middle;\n",
       "    }\n",
       "\n",
       "    .dataframe tbody tr th {\n",
       "        vertical-align: top;\n",
       "    }\n",
       "\n",
       "    .dataframe thead th {\n",
       "        text-align: right;\n",
       "    }\n",
       "</style>\n",
       "<table border=\"1\" class=\"dataframe\">\n",
       "  <thead>\n",
       "    <tr style=\"text-align: right;\">\n",
       "      <th></th>\n",
       "      <th>UT</th>\n",
       "      <th>Maths</th>\n",
       "      <th>Science</th>\n",
       "      <th>S.St</th>\n",
       "      <th>Hindi</th>\n",
       "      <th>Eng</th>\n",
       "    </tr>\n",
       "    <tr>\n",
       "      <th>Name</th>\n",
       "      <th></th>\n",
       "      <th></th>\n",
       "      <th></th>\n",
       "      <th></th>\n",
       "      <th></th>\n",
       "      <th></th>\n",
       "    </tr>\n",
       "  </thead>\n",
       "  <tbody>\n",
       "    <tr>\n",
       "      <th>Ashravy</th>\n",
       "      <td>1</td>\n",
       "      <td>23</td>\n",
       "      <td>19</td>\n",
       "      <td>20</td>\n",
       "      <td>15</td>\n",
       "      <td>22</td>\n",
       "    </tr>\n",
       "    <tr>\n",
       "      <th>Mishti</th>\n",
       "      <td>1</td>\n",
       "      <td>15</td>\n",
       "      <td>22</td>\n",
       "      <td>25</td>\n",
       "      <td>22</td>\n",
       "      <td>22</td>\n",
       "    </tr>\n",
       "    <tr>\n",
       "      <th>Raman</th>\n",
       "      <td>1</td>\n",
       "      <td>22</td>\n",
       "      <td>21</td>\n",
       "      <td>18</td>\n",
       "      <td>20</td>\n",
       "      <td>21</td>\n",
       "    </tr>\n",
       "    <tr>\n",
       "      <th>Zuhaire</th>\n",
       "      <td>1</td>\n",
       "      <td>20</td>\n",
       "      <td>17</td>\n",
       "      <td>22</td>\n",
       "      <td>24</td>\n",
       "      <td>19</td>\n",
       "    </tr>\n",
       "  </tbody>\n",
       "</table>\n",
       "</div>"
      ],
      "text/plain": [
       "         UT  Maths  Science  S.St  Hindi  Eng\n",
       "Name                                         \n",
       "Ashravy   1     23       19    20     15   22\n",
       "Mishti    1     15       22    25     22   22\n",
       "Raman     1     22       21    18     20   21\n",
       "Zuhaire   1     20       17    22     24   19"
      ]
     },
     "execution_count": 451,
     "metadata": {},
     "output_type": "execute_result"
    }
   ],
   "source": [
    "# Create a groupby Name of the student from DataFrame df\n",
    "g1 = df.groupby(\"Name\")\n",
    "# Displaying the first entry from each group\n",
    "g1.first()"
   ]
  },
  {
   "cell_type": "code",
   "execution_count": 452,
   "metadata": {},
   "outputs": [
    {
     "data": {
      "text/plain": [
       "Name\n",
       "Ashravy    3\n",
       "Mishti     3\n",
       "Raman      3\n",
       "Zuhaire    3\n",
       "dtype: int64"
      ]
     },
     "execution_count": 452,
     "metadata": {},
     "output_type": "execute_result"
    }
   ],
   "source": [
    "# Displaying the size of each group\n",
    "g1.size()"
   ]
  },
  {
   "cell_type": "code",
   "execution_count": 453,
   "metadata": {},
   "outputs": [
    {
     "data": {
      "text/plain": [
       "{'Ashravy': [6, 7, 8], 'Mishti': [9, 10, 11], 'Raman': [0, 1, 2], 'Zuhaire': [3, 4, 5]}"
      ]
     },
     "execution_count": 453,
     "metadata": {},
     "output_type": "execute_result"
    }
   ],
   "source": [
    "g1.groups"
   ]
  },
  {
   "cell_type": "code",
   "execution_count": 454,
   "metadata": {},
   "outputs": [
    {
     "data": {
      "text/html": [
       "<div>\n",
       "<style scoped>\n",
       "    .dataframe tbody tr th:only-of-type {\n",
       "        vertical-align: middle;\n",
       "    }\n",
       "\n",
       "    .dataframe tbody tr th {\n",
       "        vertical-align: top;\n",
       "    }\n",
       "\n",
       "    .dataframe thead th {\n",
       "        text-align: right;\n",
       "    }\n",
       "</style>\n",
       "<table border=\"1\" class=\"dataframe\">\n",
       "  <thead>\n",
       "    <tr style=\"text-align: right;\">\n",
       "      <th></th>\n",
       "      <th>Name</th>\n",
       "      <th>UT</th>\n",
       "      <th>Maths</th>\n",
       "      <th>Science</th>\n",
       "      <th>S.St</th>\n",
       "      <th>Hindi</th>\n",
       "      <th>Eng</th>\n",
       "    </tr>\n",
       "  </thead>\n",
       "  <tbody>\n",
       "    <tr>\n",
       "      <th>0</th>\n",
       "      <td>Raman</td>\n",
       "      <td>1</td>\n",
       "      <td>22</td>\n",
       "      <td>21</td>\n",
       "      <td>18</td>\n",
       "      <td>20</td>\n",
       "      <td>21</td>\n",
       "    </tr>\n",
       "    <tr>\n",
       "      <th>1</th>\n",
       "      <td>Raman</td>\n",
       "      <td>2</td>\n",
       "      <td>21</td>\n",
       "      <td>20</td>\n",
       "      <td>17</td>\n",
       "      <td>22</td>\n",
       "      <td>24</td>\n",
       "    </tr>\n",
       "    <tr>\n",
       "      <th>2</th>\n",
       "      <td>Raman</td>\n",
       "      <td>3</td>\n",
       "      <td>14</td>\n",
       "      <td>19</td>\n",
       "      <td>15</td>\n",
       "      <td>24</td>\n",
       "      <td>23</td>\n",
       "    </tr>\n",
       "  </tbody>\n",
       "</table>\n",
       "</div>"
      ],
      "text/plain": [
       "    Name  UT  Maths  Science  S.St  Hindi  Eng\n",
       "0  Raman   1     22       21    18     20   21\n",
       "1  Raman   2     21       20    17     22   24\n",
       "2  Raman   3     14       19    15     24   23"
      ]
     },
     "execution_count": 454,
     "metadata": {},
     "output_type": "execute_result"
    }
   ],
   "source": [
    "# Printing data of a single group\n",
    "g1.get_group(\"Raman\")"
   ]
  },
  {
   "cell_type": "code",
   "execution_count": 455,
   "metadata": {},
   "outputs": [
    {
     "data": {
      "text/html": [
       "<div>\n",
       "<style scoped>\n",
       "    .dataframe tbody tr th:only-of-type {\n",
       "        vertical-align: middle;\n",
       "    }\n",
       "\n",
       "    .dataframe tbody tr th {\n",
       "        vertical-align: top;\n",
       "    }\n",
       "\n",
       "    .dataframe thead th {\n",
       "        text-align: right;\n",
       "    }\n",
       "</style>\n",
       "<table border=\"1\" class=\"dataframe\">\n",
       "  <thead>\n",
       "    <tr style=\"text-align: right;\">\n",
       "      <th></th>\n",
       "      <th></th>\n",
       "      <th>Maths</th>\n",
       "      <th>Science</th>\n",
       "      <th>S.St</th>\n",
       "      <th>Hindi</th>\n",
       "      <th>Eng</th>\n",
       "    </tr>\n",
       "    <tr>\n",
       "      <th>Name</th>\n",
       "      <th>UT</th>\n",
       "      <th></th>\n",
       "      <th></th>\n",
       "      <th></th>\n",
       "      <th></th>\n",
       "      <th></th>\n",
       "    </tr>\n",
       "  </thead>\n",
       "  <tbody>\n",
       "    <tr>\n",
       "      <th rowspan=\"3\" valign=\"top\">Ashravy</th>\n",
       "      <th>1</th>\n",
       "      <td>23</td>\n",
       "      <td>19</td>\n",
       "      <td>20</td>\n",
       "      <td>15</td>\n",
       "      <td>22</td>\n",
       "    </tr>\n",
       "    <tr>\n",
       "      <th>2</th>\n",
       "      <td>24</td>\n",
       "      <td>22</td>\n",
       "      <td>24</td>\n",
       "      <td>17</td>\n",
       "      <td>21</td>\n",
       "    </tr>\n",
       "    <tr>\n",
       "      <th>3</th>\n",
       "      <td>12</td>\n",
       "      <td>25</td>\n",
       "      <td>19</td>\n",
       "      <td>21</td>\n",
       "      <td>23</td>\n",
       "    </tr>\n",
       "    <tr>\n",
       "      <th rowspan=\"3\" valign=\"top\">Mishti</th>\n",
       "      <th>1</th>\n",
       "      <td>15</td>\n",
       "      <td>22</td>\n",
       "      <td>25</td>\n",
       "      <td>22</td>\n",
       "      <td>22</td>\n",
       "    </tr>\n",
       "    <tr>\n",
       "      <th>2</th>\n",
       "      <td>18</td>\n",
       "      <td>21</td>\n",
       "      <td>25</td>\n",
       "      <td>24</td>\n",
       "      <td>23</td>\n",
       "    </tr>\n",
       "    <tr>\n",
       "      <th>3</th>\n",
       "      <td>17</td>\n",
       "      <td>18</td>\n",
       "      <td>20</td>\n",
       "      <td>25</td>\n",
       "      <td>20</td>\n",
       "    </tr>\n",
       "    <tr>\n",
       "      <th rowspan=\"3\" valign=\"top\">Raman</th>\n",
       "      <th>1</th>\n",
       "      <td>22</td>\n",
       "      <td>21</td>\n",
       "      <td>18</td>\n",
       "      <td>20</td>\n",
       "      <td>21</td>\n",
       "    </tr>\n",
       "    <tr>\n",
       "      <th>2</th>\n",
       "      <td>21</td>\n",
       "      <td>20</td>\n",
       "      <td>17</td>\n",
       "      <td>22</td>\n",
       "      <td>24</td>\n",
       "    </tr>\n",
       "    <tr>\n",
       "      <th>3</th>\n",
       "      <td>14</td>\n",
       "      <td>19</td>\n",
       "      <td>15</td>\n",
       "      <td>24</td>\n",
       "      <td>23</td>\n",
       "    </tr>\n",
       "    <tr>\n",
       "      <th rowspan=\"3\" valign=\"top\">Zuhaire</th>\n",
       "      <th>1</th>\n",
       "      <td>20</td>\n",
       "      <td>17</td>\n",
       "      <td>22</td>\n",
       "      <td>24</td>\n",
       "      <td>19</td>\n",
       "    </tr>\n",
       "    <tr>\n",
       "      <th>2</th>\n",
       "      <td>23</td>\n",
       "      <td>15</td>\n",
       "      <td>21</td>\n",
       "      <td>25</td>\n",
       "      <td>15</td>\n",
       "    </tr>\n",
       "    <tr>\n",
       "      <th>3</th>\n",
       "      <td>22</td>\n",
       "      <td>18</td>\n",
       "      <td>19</td>\n",
       "      <td>23</td>\n",
       "      <td>13</td>\n",
       "    </tr>\n",
       "  </tbody>\n",
       "</table>\n",
       "</div>"
      ],
      "text/plain": [
       "            Maths  Science  S.St  Hindi  Eng\n",
       "Name    UT                                  \n",
       "Ashravy 1      23       19    20     15   22\n",
       "        2      24       22    24     17   21\n",
       "        3      12       25    19     21   23\n",
       "Mishti  1      15       22    25     22   22\n",
       "        2      18       21    25     24   23\n",
       "        3      17       18    20     25   20\n",
       "Raman   1      22       21    18     20   21\n",
       "        2      21       20    17     22   24\n",
       "        3      14       19    15     24   23\n",
       "Zuhaire 1      20       17    22     24   19\n",
       "        2      23       15    21     25   15\n",
       "        3      22       18    19     23   13"
      ]
     },
     "execution_count": 455,
     "metadata": {},
     "output_type": "execute_result"
    }
   ],
   "source": [
    "# Grouping with respect to multiple attributes\n",
    "# Creating a groupby Name and UT\n",
    "g2 = df.groupby([\"Name\", \"UT\"])\n",
    "g2.first()"
   ]
  },
  {
   "cell_type": "code",
   "execution_count": 456,
   "metadata": {},
   "outputs": [
    {
     "data": {
      "text/html": [
       "<div>\n",
       "<style scoped>\n",
       "    .dataframe tbody tr th:only-of-type {\n",
       "        vertical-align: middle;\n",
       "    }\n",
       "\n",
       "    .dataframe tbody tr th {\n",
       "        vertical-align: top;\n",
       "    }\n",
       "\n",
       "    .dataframe thead th {\n",
       "        text-align: right;\n",
       "    }\n",
       "</style>\n",
       "<table border=\"1\" class=\"dataframe\">\n",
       "  <thead>\n",
       "    <tr style=\"text-align: right;\">\n",
       "      <th></th>\n",
       "      <th>Maths</th>\n",
       "      <th>Science</th>\n",
       "      <th>S.St</th>\n",
       "      <th>Hindi</th>\n",
       "      <th>Eng</th>\n",
       "    </tr>\n",
       "    <tr>\n",
       "      <th>UT</th>\n",
       "      <th></th>\n",
       "      <th></th>\n",
       "      <th></th>\n",
       "      <th></th>\n",
       "      <th></th>\n",
       "    </tr>\n",
       "  </thead>\n",
       "  <tbody>\n",
       "    <tr>\n",
       "      <th>1</th>\n",
       "      <td>20.00</td>\n",
       "      <td>19.75</td>\n",
       "      <td>21.25</td>\n",
       "      <td>20.25</td>\n",
       "      <td>21.00</td>\n",
       "    </tr>\n",
       "    <tr>\n",
       "      <th>2</th>\n",
       "      <td>21.50</td>\n",
       "      <td>19.50</td>\n",
       "      <td>21.75</td>\n",
       "      <td>22.00</td>\n",
       "      <td>20.75</td>\n",
       "    </tr>\n",
       "    <tr>\n",
       "      <th>3</th>\n",
       "      <td>16.25</td>\n",
       "      <td>20.00</td>\n",
       "      <td>18.25</td>\n",
       "      <td>23.25</td>\n",
       "      <td>19.75</td>\n",
       "    </tr>\n",
       "  </tbody>\n",
       "</table>\n",
       "</div>"
      ],
      "text/plain": [
       "    Maths  Science   S.St  Hindi    Eng\n",
       "UT                                     \n",
       "1   20.00    19.75  21.25  20.25  21.00\n",
       "2   21.50    19.50  21.75  22.00  20.75\n",
       "3   16.25    20.00  18.25  23.25  19.75"
      ]
     },
     "execution_count": 456,
     "metadata": {},
     "output_type": "execute_result"
    }
   ],
   "source": [
    "# Calculating average marks scored by all\n",
    "# students in each subject for each UT\n",
    "df.groupby([\"UT\"]).aggregate(\"mean\", numeric_only=True)"
   ]
  },
  {
   "cell_type": "code",
   "execution_count": 457,
   "metadata": {},
   "outputs": [
    {
     "data": {
      "text/plain": [
       "UT\n",
       "1    20.00\n",
       "2    21.50\n",
       "3    16.25\n",
       "Name: Maths, dtype: float64"
      ]
     },
     "execution_count": 457,
     "metadata": {},
     "output_type": "execute_result"
    }
   ],
   "source": [
    "# Calculate average marks scored in Maths ineach UT\n",
    "group1 = df.groupby([\"UT\"])\n",
    "group1[\"Maths\"].aggregate(\"mean\")"
   ]
  },
  {
   "cell_type": "code",
   "execution_count": 458,
   "metadata": {},
   "outputs": [
    {
     "data": {
      "text/html": [
       "<div>\n",
       "<style scoped>\n",
       "    .dataframe tbody tr th:only-of-type {\n",
       "        vertical-align: middle;\n",
       "    }\n",
       "\n",
       "    .dataframe tbody tr th {\n",
       "        vertical-align: top;\n",
       "    }\n",
       "\n",
       "    .dataframe thead th {\n",
       "        text-align: right;\n",
       "    }\n",
       "</style>\n",
       "<table border=\"1\" class=\"dataframe\">\n",
       "  <thead>\n",
       "    <tr style=\"text-align: right;\">\n",
       "      <th></th>\n",
       "      <th>mean</th>\n",
       "      <th>var</th>\n",
       "      <th>std</th>\n",
       "      <th>quantile</th>\n",
       "    </tr>\n",
       "    <tr>\n",
       "      <th>Name</th>\n",
       "      <th></th>\n",
       "      <th></th>\n",
       "      <th></th>\n",
       "      <th></th>\n",
       "    </tr>\n",
       "  </thead>\n",
       "  <tbody>\n",
       "    <tr>\n",
       "      <th>Ashravy</th>\n",
       "      <td>19.666667</td>\n",
       "      <td>44.333333</td>\n",
       "      <td>6.658328</td>\n",
       "      <td>23.0</td>\n",
       "    </tr>\n",
       "    <tr>\n",
       "      <th>Mishti</th>\n",
       "      <td>16.666667</td>\n",
       "      <td>2.333333</td>\n",
       "      <td>1.527525</td>\n",
       "      <td>17.0</td>\n",
       "    </tr>\n",
       "    <tr>\n",
       "      <th>Raman</th>\n",
       "      <td>19.000000</td>\n",
       "      <td>19.000000</td>\n",
       "      <td>4.358899</td>\n",
       "      <td>21.0</td>\n",
       "    </tr>\n",
       "    <tr>\n",
       "      <th>Zuhaire</th>\n",
       "      <td>21.666667</td>\n",
       "      <td>2.333333</td>\n",
       "      <td>1.527525</td>\n",
       "      <td>22.0</td>\n",
       "    </tr>\n",
       "  </tbody>\n",
       "</table>\n",
       "</div>"
      ],
      "text/plain": [
       "              mean        var       std  quantile\n",
       "Name                                             \n",
       "Ashravy  19.666667  44.333333  6.658328      23.0\n",
       "Mishti   16.666667   2.333333  1.527525      17.0\n",
       "Raman    19.000000  19.000000  4.358899      21.0\n",
       "Zuhaire  21.666667   2.333333  1.527525      22.0"
      ]
     },
     "execution_count": 458,
     "metadata": {},
     "output_type": "execute_result"
    }
   ],
   "source": [
    "df.groupby(by=\"Name\")[\"Maths\"].agg(\n",
    "    [\"mean\", \"var\", \"std\", \"quantile\"],\n",
    ")"
   ]
  },
  {
   "cell_type": "code",
   "execution_count": 459,
   "metadata": {},
   "outputs": [
    {
     "data": {
      "text/html": [
       "<div>\n",
       "<style scoped>\n",
       "    .dataframe tbody tr th:only-of-type {\n",
       "        vertical-align: middle;\n",
       "    }\n",
       "\n",
       "    .dataframe tbody tr th {\n",
       "        vertical-align: top;\n",
       "    }\n",
       "\n",
       "    .dataframe thead th {\n",
       "        text-align: right;\n",
       "    }\n",
       "</style>\n",
       "<table border=\"1\" class=\"dataframe\">\n",
       "  <thead>\n",
       "    <tr style=\"text-align: right;\">\n",
       "      <th></th>\n",
       "      <th>Name</th>\n",
       "      <th>UT</th>\n",
       "      <th>Maths</th>\n",
       "      <th>Science</th>\n",
       "      <th>S.St</th>\n",
       "      <th>Hindi</th>\n",
       "      <th>Eng</th>\n",
       "    </tr>\n",
       "  </thead>\n",
       "  <tbody>\n",
       "    <tr>\n",
       "      <th>0</th>\n",
       "      <td>Raman</td>\n",
       "      <td>1</td>\n",
       "      <td>22</td>\n",
       "      <td>21</td>\n",
       "      <td>18</td>\n",
       "      <td>20</td>\n",
       "      <td>21</td>\n",
       "    </tr>\n",
       "    <tr>\n",
       "      <th>1</th>\n",
       "      <td>Raman</td>\n",
       "      <td>2</td>\n",
       "      <td>21</td>\n",
       "      <td>20</td>\n",
       "      <td>17</td>\n",
       "      <td>22</td>\n",
       "      <td>24</td>\n",
       "    </tr>\n",
       "    <tr>\n",
       "      <th>2</th>\n",
       "      <td>Raman</td>\n",
       "      <td>3</td>\n",
       "      <td>14</td>\n",
       "      <td>19</td>\n",
       "      <td>15</td>\n",
       "      <td>24</td>\n",
       "      <td>23</td>\n",
       "    </tr>\n",
       "    <tr>\n",
       "      <th>3</th>\n",
       "      <td>Zuhaire</td>\n",
       "      <td>1</td>\n",
       "      <td>20</td>\n",
       "      <td>17</td>\n",
       "      <td>22</td>\n",
       "      <td>24</td>\n",
       "      <td>19</td>\n",
       "    </tr>\n",
       "    <tr>\n",
       "      <th>4</th>\n",
       "      <td>Zuhaire</td>\n",
       "      <td>2</td>\n",
       "      <td>23</td>\n",
       "      <td>15</td>\n",
       "      <td>21</td>\n",
       "      <td>25</td>\n",
       "      <td>15</td>\n",
       "    </tr>\n",
       "    <tr>\n",
       "      <th>5</th>\n",
       "      <td>Zuhaire</td>\n",
       "      <td>3</td>\n",
       "      <td>22</td>\n",
       "      <td>18</td>\n",
       "      <td>19</td>\n",
       "      <td>23</td>\n",
       "      <td>13</td>\n",
       "    </tr>\n",
       "    <tr>\n",
       "      <th>6</th>\n",
       "      <td>Ashravy</td>\n",
       "      <td>1</td>\n",
       "      <td>23</td>\n",
       "      <td>19</td>\n",
       "      <td>20</td>\n",
       "      <td>15</td>\n",
       "      <td>22</td>\n",
       "    </tr>\n",
       "    <tr>\n",
       "      <th>7</th>\n",
       "      <td>Ashravy</td>\n",
       "      <td>2</td>\n",
       "      <td>24</td>\n",
       "      <td>22</td>\n",
       "      <td>24</td>\n",
       "      <td>17</td>\n",
       "      <td>21</td>\n",
       "    </tr>\n",
       "    <tr>\n",
       "      <th>8</th>\n",
       "      <td>Ashravy</td>\n",
       "      <td>3</td>\n",
       "      <td>12</td>\n",
       "      <td>25</td>\n",
       "      <td>19</td>\n",
       "      <td>21</td>\n",
       "      <td>23</td>\n",
       "    </tr>\n",
       "    <tr>\n",
       "      <th>9</th>\n",
       "      <td>Mishti</td>\n",
       "      <td>1</td>\n",
       "      <td>15</td>\n",
       "      <td>22</td>\n",
       "      <td>25</td>\n",
       "      <td>22</td>\n",
       "      <td>22</td>\n",
       "    </tr>\n",
       "    <tr>\n",
       "      <th>10</th>\n",
       "      <td>Mishti</td>\n",
       "      <td>2</td>\n",
       "      <td>18</td>\n",
       "      <td>21</td>\n",
       "      <td>25</td>\n",
       "      <td>24</td>\n",
       "      <td>23</td>\n",
       "    </tr>\n",
       "    <tr>\n",
       "      <th>11</th>\n",
       "      <td>Mishti</td>\n",
       "      <td>3</td>\n",
       "      <td>17</td>\n",
       "      <td>18</td>\n",
       "      <td>20</td>\n",
       "      <td>25</td>\n",
       "      <td>20</td>\n",
       "    </tr>\n",
       "  </tbody>\n",
       "</table>\n",
       "</div>"
      ],
      "text/plain": [
       "       Name  UT  Maths  Science  S.St  Hindi  Eng\n",
       "0     Raman   1     22       21    18     20   21\n",
       "1     Raman   2     21       20    17     22   24\n",
       "2     Raman   3     14       19    15     24   23\n",
       "3   Zuhaire   1     20       17    22     24   19\n",
       "4   Zuhaire   2     23       15    21     25   15\n",
       "5   Zuhaire   3     22       18    19     23   13\n",
       "6   Ashravy   1     23       19    20     15   22\n",
       "7   Ashravy   2     24       22    24     17   21\n",
       "8   Ashravy   3     12       25    19     21   23\n",
       "9    Mishti   1     15       22    25     22   22\n",
       "10   Mishti   2     18       21    25     24   23\n",
       "11   Mishti   3     17       18    20     25   20"
      ]
     },
     "execution_count": 459,
     "metadata": {},
     "output_type": "execute_result"
    }
   ],
   "source": [
    "df  # With default Index"
   ]
  },
  {
   "cell_type": "code",
   "execution_count": 460,
   "metadata": {},
   "outputs": [
    {
     "name": "stdout",
     "output_type": "stream",
     "text": [
      "      Name  UT  Maths  Science  S.St  Hindi  Eng\n",
      "0    Raman   1     22       21    18     20   21\n",
      "3  Zuhaire   1     20       17    22     24   19\n",
      "6  Ashravy   1     23       19    20     15   22\n",
      "9   Mishti   1     15       22    25     22   22\n"
     ]
    }
   ],
   "source": [
    "dfUT1 = df[df.UT == 1]\n",
    "print(dfUT1)"
   ]
  },
  {
   "cell_type": "code",
   "execution_count": 461,
   "metadata": {},
   "outputs": [
    {
     "name": "stdout",
     "output_type": "stream",
     "text": [
      "   index     Name  UT  Maths  Science  S.St  Hindi  Eng\n",
      "0      0    Raman   1     22       21    18     20   21\n",
      "1      3  Zuhaire   1     20       17    22     24   19\n",
      "2      6  Ashravy   1     23       19    20     15   22\n",
      "3      9   Mishti   1     15       22    25     22   22\n"
     ]
    }
   ],
   "source": [
    "dfUT1.reset_index(inplace=True)\n",
    "print(dfUT1)"
   ]
  },
  {
   "cell_type": "code",
   "execution_count": 462,
   "metadata": {},
   "outputs": [
    {
     "name": "stdout",
     "output_type": "stream",
     "text": [
      "      Name  UT  Maths  Science  S.St  Hindi  Eng\n",
      "0    Raman   1     22       21    18     20   21\n",
      "1  Zuhaire   1     20       17    22     24   19\n",
      "2  Ashravy   1     23       19    20     15   22\n",
      "3   Mishti   1     15       22    25     22   22\n"
     ]
    },
    {
     "name": "stderr",
     "output_type": "stream",
     "text": [
      "C:\\Users\\laksh\\AppData\\Local\\Temp\\ipykernel_16444\\399177450.py:1: SettingWithCopyWarning: \n",
      "A value is trying to be set on a copy of a slice from a DataFrame\n",
      "\n",
      "See the caveats in the documentation: https://pandas.pydata.org/pandas-docs/stable/user_guide/indexing.html#returning-a-view-versus-a-copy\n",
      "  dfUT1.drop(columns=[\"index\"], inplace=True)\n"
     ]
    }
   ],
   "source": [
    "dfUT1.drop(columns=[\"index\"], inplace=True)\n",
    "print(dfUT1)"
   ]
  },
  {
   "cell_type": "code",
   "execution_count": 463,
   "metadata": {},
   "outputs": [
    {
     "name": "stdout",
     "output_type": "stream",
     "text": [
      "         UT  Maths  Science  S.St  Hindi  Eng\n",
      "Name                                         \n",
      "Raman     1     22       21    18     20   21\n",
      "Zuhaire   1     20       17    22     24   19\n",
      "Ashravy   1     23       19    20     15   22\n",
      "Mishti    1     15       22    25     22   22\n"
     ]
    }
   ],
   "source": [
    "dfUT1.set_index(\"Name\", inplace=True)\n",
    "print(dfUT1)"
   ]
  },
  {
   "cell_type": "code",
   "execution_count": 464,
   "metadata": {},
   "outputs": [
    {
     "name": "stdout",
     "output_type": "stream",
     "text": [
      "      Name  UT  Maths  Science  S.St  Hindi  Eng\n",
      "0    Raman   1     22       21    18     20   21\n",
      "1  Zuhaire   1     20       17    22     24   19\n",
      "2  Ashravy   1     23       19    20     15   22\n",
      "3   Mishti   1     15       22    25     22   22\n"
     ]
    }
   ],
   "source": [
    "dfUT1.reset_index(\"Name\", inplace=True)\n",
    "print(dfUT1)"
   ]
  },
  {
   "cell_type": "code",
   "execution_count": 465,
   "metadata": {},
   "outputs": [
    {
     "name": "stdout",
     "output_type": "stream",
     "text": [
      "  Store  Year  Total_sales(Rs)  Total_profit(Rs)\n",
      "0    S1  2016            12000              1100\n",
      "1    S4  2016           330000              5500\n",
      "2    S3  2016           420000             21000\n",
      "3    S1  2017            20000             32000\n",
      "4    S2  2017            10000              9000\n",
      "5    S3  2017           450000             45000\n",
      "6    S1  2018            30000              3000\n",
      "7    S2  2018            11000              1900\n",
      "8    S3  2018            89000             23000\n"
     ]
    }
   ],
   "source": [
    "import pandas as pd\n",
    "\n",
    "data = {\n",
    "    \"Store\": [\"S1\", \"S4\", \"S3\", \"S1\", \"S2\", \"S3\", \"S1\", \"S2\", \"S3\"],\n",
    "    \"Year\": [2016, 2016, 2016, 2017, 2017, 2017, 2018, 2018, 2018],\n",
    "    \"Total_sales(Rs)\": [\n",
    "        12000,\n",
    "        330000,\n",
    "        420000,\n",
    "        20000,\n",
    "        10000,\n",
    "        450000,\n",
    "        30000,\n",
    "        11000,\n",
    "        89000,\n",
    "    ],\n",
    "    \"Total_profit(Rs)\": [\n",
    "        1100,\n",
    "        5500,\n",
    "        21000,\n",
    "        32000,\n",
    "        9000,\n",
    "        45000,\n",
    "        3000,\n",
    "        1900,\n",
    "        23000,\n",
    "    ],\n",
    "}\n",
    "\n",
    "df = pd.DataFrame(data)\n",
    "print(df)"
   ]
  },
  {
   "cell_type": "code",
   "execution_count": 466,
   "metadata": {},
   "outputs": [
    {
     "data": {
      "text/plain": [
       "np.int64(62000)"
      ]
     },
     "execution_count": 466,
     "metadata": {},
     "output_type": "execute_result"
    }
   ],
   "source": [
    "# will get the data related to store S1\n",
    "S1df = df[df.Store == \"S1\"]\n",
    "# find the total of sales for Store S1\n",
    "S1df[\"Total_sales(Rs)\"].sum()"
   ]
  },
  {
   "cell_type": "code",
   "execution_count": 467,
   "metadata": {},
   "outputs": [
    {
     "data": {
      "text/plain": [
       "np.int64(450000)"
      ]
     },
     "execution_count": 467,
     "metadata": {},
     "output_type": "execute_result"
    }
   ],
   "source": [
    "# will get the data related to store S3\n",
    "S3df = df[df.Store == \"S3\"]\n",
    "# find the maximum sale for Store S3\n",
    "S3df[\"Total_sales(Rs)\"].max()"
   ]
  },
  {
   "cell_type": "code",
   "execution_count": 468,
   "metadata": {},
   "outputs": [
    {
     "data": {
      "text/plain": [
       "np.int64(959000)"
      ]
     },
     "execution_count": 468,
     "metadata": {},
     "output_type": "execute_result"
    }
   ],
   "source": [
    "S1df = df[df.Store == \"S1\"]\n",
    "S2df = df[df.Store == \"S2\"]\n",
    "S3df = df[df.Store == \"S3\"]\n",
    "S4df = df[df.Store == \"S4\"]\n",
    "S1total = S1df[\"Total_sales(Rs)\"].sum()\n",
    "S2total = S2df[\"Total_sales(Rs)\"].sum()\n",
    "S3total = S3df[\"Total_sales(Rs)\"].sum()\n",
    "S4total = S4df[\"Total_sales(Rs)\"].sum()\n",
    "max(S1total, S2total, S3total, S4total)"
   ]
  },
  {
   "cell_type": "code",
   "execution_count": 469,
   "metadata": {},
   "outputs": [],
   "source": [
    "pivot1 = df.pivot(\n",
    "    index=\"Store\",\n",
    "    columns=\"Year\",\n",
    "    values=\"Total_sales(Rs)\",\n",
    ")"
   ]
  },
  {
   "cell_type": "code",
   "execution_count": 470,
   "metadata": {},
   "outputs": [
    {
     "name": "stdout",
     "output_type": "stream",
     "text": [
      "Year       2016      2017     2018\n",
      "Store                             \n",
      "S1      12000.0   20000.0  30000.0\n",
      "S2          NaN   10000.0  11000.0\n",
      "S3     420000.0  450000.0  89000.0\n",
      "S4     330000.0       NaN      NaN\n"
     ]
    }
   ],
   "source": [
    "print(pivot1)"
   ]
  },
  {
   "cell_type": "code",
   "execution_count": 471,
   "metadata": {},
   "outputs": [
    {
     "data": {
      "text/plain": [
       "np.float64(62000.0)"
      ]
     },
     "execution_count": 471,
     "metadata": {},
     "output_type": "execute_result"
    }
   ],
   "source": [
    "pivot1.loc[\"S1\"].sum()"
   ]
  },
  {
   "cell_type": "code",
   "execution_count": 472,
   "metadata": {},
   "outputs": [
    {
     "data": {
      "text/plain": [
       "np.float64(450000.0)"
      ]
     },
     "execution_count": 472,
     "metadata": {},
     "output_type": "execute_result"
    }
   ],
   "source": [
    "pivot1.loc[\"S3\"].max()"
   ]
  },
  {
   "cell_type": "code",
   "execution_count": 473,
   "metadata": {},
   "outputs": [
    {
     "data": {
      "text/plain": [
       "np.float64(959000.0)"
      ]
     },
     "execution_count": 473,
     "metadata": {},
     "output_type": "execute_result"
    }
   ],
   "source": [
    "S1total = pivot1.loc[\"S1\"].sum()\n",
    "S2total = pivot1.loc[\"S2\"].sum()\n",
    "S3total = pivot1.loc[\"S3\"].sum()\n",
    "S4total = pivot1.loc[\"S4\"].sum()\n",
    "max(S1total, S2total, S3total, S4total)"
   ]
  },
  {
   "cell_type": "code",
   "execution_count": 474,
   "metadata": {},
   "outputs": [
    {
     "name": "stdout",
     "output_type": "stream",
     "text": [
      "      Total_sales(Rs)                    Total_profit(Rs)                  \n",
      "Year             2016      2017     2018             2016     2017     2018\n",
      "Store                                                                      \n",
      "S1            12000.0   20000.0  30000.0           1100.0  32000.0   3000.0\n",
      "S2                NaN   10000.0  11000.0              NaN   9000.0   1900.0\n",
      "S3           420000.0  450000.0  89000.0          21000.0  45000.0  23000.0\n",
      "S4           330000.0       NaN      NaN           5500.0      NaN      NaN\n"
     ]
    }
   ],
   "source": [
    "pivot2 = df.pivot(\n",
    "    index=\"Store\",\n",
    "    columns=\"Year\",\n",
    "    values=[\"Total_sales(Rs)\", \"Total_profit(Rs)\"],\n",
    ")\n",
    "print(pivot2)"
   ]
  },
  {
   "cell_type": "code",
   "execution_count": 475,
   "metadata": {},
   "outputs": [
    {
     "name": "stdout",
     "output_type": "stream",
     "text": [
      "     Item  Color  Price(Rs)  Units_in_stock\n",
      "0     Pen    Red         10              50\n",
      "1     Pen    Red         25              10\n",
      "2  Pencil  Black          7              47\n",
      "3  Pencil  Black          5              34\n",
      "4     Pen   Blue         50              55\n",
      "5     Pen   Blue         20              14\n"
     ]
    }
   ],
   "source": [
    "data = {\n",
    "    \"Item\": [\"Pen\", \"Pen\", \"Pencil\", \"Pencil\", \"Pen\", \"Pen\"],\n",
    "    \"Color\": [\"Red\", \"Red\", \"Black\", \"Black\", \"Blue\", \"Blue\"],\n",
    "    \"Price(Rs)\": [10, 25, 7, 5, 50, 20],\n",
    "    \"Units_in_stock\": [50, 10, 47, 34, 55, 14],\n",
    "}\n",
    "\n",
    "df = pd.DataFrame(data)\n",
    "print(df)"
   ]
  },
  {
   "cell_type": "code",
   "execution_count": 476,
   "metadata": {},
   "outputs": [
    {
     "ename": "ValueError",
     "evalue": "Index contains duplicate entries, cannot reshape",
     "output_type": "error",
     "traceback": [
      "\u001b[1;31m---------------------------------------------------------------------------\u001b[0m",
      "\u001b[1;31mValueError\u001b[0m                                Traceback (most recent call last)",
      "Cell \u001b[1;32mIn[476], line 1\u001b[0m\n\u001b[1;32m----> 1\u001b[0m pivot3 \u001b[38;5;241m=\u001b[39m \u001b[43mdf\u001b[49m\u001b[38;5;241;43m.\u001b[39;49m\u001b[43mpivot\u001b[49m\u001b[43m(\u001b[49m\n\u001b[0;32m      2\u001b[0m \u001b[43m    \u001b[49m\u001b[43mindex\u001b[49m\u001b[38;5;241;43m=\u001b[39;49m\u001b[38;5;124;43m\"\u001b[39;49m\u001b[38;5;124;43mItem\u001b[39;49m\u001b[38;5;124;43m\"\u001b[39;49m\u001b[43m,\u001b[49m\n\u001b[0;32m      3\u001b[0m \u001b[43m    \u001b[49m\u001b[43mcolumns\u001b[49m\u001b[38;5;241;43m=\u001b[39;49m\u001b[38;5;124;43m\"\u001b[39;49m\u001b[38;5;124;43mColor\u001b[39;49m\u001b[38;5;124;43m\"\u001b[39;49m\u001b[43m,\u001b[49m\n\u001b[0;32m      4\u001b[0m \u001b[43m    \u001b[49m\u001b[43mvalues\u001b[49m\u001b[38;5;241;43m=\u001b[39;49m\u001b[38;5;124;43m\"\u001b[39;49m\u001b[38;5;124;43mUnits_in_stock\u001b[39;49m\u001b[38;5;124;43m\"\u001b[39;49m\u001b[43m,\u001b[49m\n\u001b[0;32m      5\u001b[0m \u001b[43m)\u001b[49m\n",
      "File \u001b[1;32m~\\AppData\\Roaming\\Python\\Python313\\site-packages\\pandas\\core\\frame.py:9339\u001b[0m, in \u001b[0;36mDataFrame.pivot\u001b[1;34m(self, columns, index, values)\u001b[0m\n\u001b[0;32m   9332\u001b[0m \u001b[38;5;129m@Substitution\u001b[39m(\u001b[38;5;124m\"\u001b[39m\u001b[38;5;124m\"\u001b[39m)\n\u001b[0;32m   9333\u001b[0m \u001b[38;5;129m@Appender\u001b[39m(_shared_docs[\u001b[38;5;124m\"\u001b[39m\u001b[38;5;124mpivot\u001b[39m\u001b[38;5;124m\"\u001b[39m])\n\u001b[0;32m   9334\u001b[0m \u001b[38;5;28;01mdef\u001b[39;00m\u001b[38;5;250m \u001b[39m\u001b[38;5;21mpivot\u001b[39m(\n\u001b[0;32m   9335\u001b[0m     \u001b[38;5;28mself\u001b[39m, \u001b[38;5;241m*\u001b[39m, columns, index\u001b[38;5;241m=\u001b[39mlib\u001b[38;5;241m.\u001b[39mno_default, values\u001b[38;5;241m=\u001b[39mlib\u001b[38;5;241m.\u001b[39mno_default\n\u001b[0;32m   9336\u001b[0m ) \u001b[38;5;241m-\u001b[39m\u001b[38;5;241m>\u001b[39m DataFrame:\n\u001b[0;32m   9337\u001b[0m     \u001b[38;5;28;01mfrom\u001b[39;00m\u001b[38;5;250m \u001b[39m\u001b[38;5;21;01mpandas\u001b[39;00m\u001b[38;5;21;01m.\u001b[39;00m\u001b[38;5;21;01mcore\u001b[39;00m\u001b[38;5;21;01m.\u001b[39;00m\u001b[38;5;21;01mreshape\u001b[39;00m\u001b[38;5;21;01m.\u001b[39;00m\u001b[38;5;21;01mpivot\u001b[39;00m\u001b[38;5;250m \u001b[39m\u001b[38;5;28;01mimport\u001b[39;00m pivot\n\u001b[1;32m-> 9339\u001b[0m     \u001b[38;5;28;01mreturn\u001b[39;00m \u001b[43mpivot\u001b[49m\u001b[43m(\u001b[49m\u001b[38;5;28;43mself\u001b[39;49m\u001b[43m,\u001b[49m\u001b[43m \u001b[49m\u001b[43mindex\u001b[49m\u001b[38;5;241;43m=\u001b[39;49m\u001b[43mindex\u001b[49m\u001b[43m,\u001b[49m\u001b[43m \u001b[49m\u001b[43mcolumns\u001b[49m\u001b[38;5;241;43m=\u001b[39;49m\u001b[43mcolumns\u001b[49m\u001b[43m,\u001b[49m\u001b[43m \u001b[49m\u001b[43mvalues\u001b[49m\u001b[38;5;241;43m=\u001b[39;49m\u001b[43mvalues\u001b[49m\u001b[43m)\u001b[49m\n",
      "File \u001b[1;32m~\\AppData\\Roaming\\Python\\Python313\\site-packages\\pandas\\core\\reshape\\pivot.py:570\u001b[0m, in \u001b[0;36mpivot\u001b[1;34m(data, columns, index, values)\u001b[0m\n\u001b[0;32m    566\u001b[0m         indexed \u001b[38;5;241m=\u001b[39m data\u001b[38;5;241m.\u001b[39m_constructor_sliced(data[values]\u001b[38;5;241m.\u001b[39m_values, index\u001b[38;5;241m=\u001b[39mmultiindex)\n\u001b[0;32m    567\u001b[0m \u001b[38;5;66;03m# error: Argument 1 to \"unstack\" of \"DataFrame\" has incompatible type \"Union\u001b[39;00m\n\u001b[0;32m    568\u001b[0m \u001b[38;5;66;03m# [List[Any], ExtensionArray, ndarray[Any, Any], Index, Series]\"; expected\u001b[39;00m\n\u001b[0;32m    569\u001b[0m \u001b[38;5;66;03m# \"Hashable\"\u001b[39;00m\n\u001b[1;32m--> 570\u001b[0m result \u001b[38;5;241m=\u001b[39m \u001b[43mindexed\u001b[49m\u001b[38;5;241;43m.\u001b[39;49m\u001b[43munstack\u001b[49m\u001b[43m(\u001b[49m\u001b[43mcolumns_listlike\u001b[49m\u001b[43m)\u001b[49m  \u001b[38;5;66;03m# type: ignore[arg-type]\u001b[39;00m\n\u001b[0;32m    571\u001b[0m result\u001b[38;5;241m.\u001b[39mindex\u001b[38;5;241m.\u001b[39mnames \u001b[38;5;241m=\u001b[39m [\n\u001b[0;32m    572\u001b[0m     name \u001b[38;5;28;01mif\u001b[39;00m name \u001b[38;5;129;01mis\u001b[39;00m \u001b[38;5;129;01mnot\u001b[39;00m lib\u001b[38;5;241m.\u001b[39mno_default \u001b[38;5;28;01melse\u001b[39;00m \u001b[38;5;28;01mNone\u001b[39;00m \u001b[38;5;28;01mfor\u001b[39;00m name \u001b[38;5;129;01min\u001b[39;00m result\u001b[38;5;241m.\u001b[39mindex\u001b[38;5;241m.\u001b[39mnames\n\u001b[0;32m    573\u001b[0m ]\n\u001b[0;32m    575\u001b[0m \u001b[38;5;28;01mreturn\u001b[39;00m result\n",
      "File \u001b[1;32m~\\AppData\\Roaming\\Python\\Python313\\site-packages\\pandas\\core\\series.py:4615\u001b[0m, in \u001b[0;36mSeries.unstack\u001b[1;34m(self, level, fill_value, sort)\u001b[0m\n\u001b[0;32m   4570\u001b[0m \u001b[38;5;250m\u001b[39m\u001b[38;5;124;03m\"\"\"\u001b[39;00m\n\u001b[0;32m   4571\u001b[0m \u001b[38;5;124;03mUnstack, also known as pivot, Series with MultiIndex to produce DataFrame.\u001b[39;00m\n\u001b[0;32m   4572\u001b[0m \n\u001b[1;32m   (...)\u001b[0m\n\u001b[0;32m   4611\u001b[0m \u001b[38;5;124;03mb    2    4\u001b[39;00m\n\u001b[0;32m   4612\u001b[0m \u001b[38;5;124;03m\"\"\"\u001b[39;00m\n\u001b[0;32m   4613\u001b[0m \u001b[38;5;28;01mfrom\u001b[39;00m\u001b[38;5;250m \u001b[39m\u001b[38;5;21;01mpandas\u001b[39;00m\u001b[38;5;21;01m.\u001b[39;00m\u001b[38;5;21;01mcore\u001b[39;00m\u001b[38;5;21;01m.\u001b[39;00m\u001b[38;5;21;01mreshape\u001b[39;00m\u001b[38;5;21;01m.\u001b[39;00m\u001b[38;5;21;01mreshape\u001b[39;00m\u001b[38;5;250m \u001b[39m\u001b[38;5;28;01mimport\u001b[39;00m unstack\n\u001b[1;32m-> 4615\u001b[0m \u001b[38;5;28;01mreturn\u001b[39;00m \u001b[43munstack\u001b[49m\u001b[43m(\u001b[49m\u001b[38;5;28;43mself\u001b[39;49m\u001b[43m,\u001b[49m\u001b[43m \u001b[49m\u001b[43mlevel\u001b[49m\u001b[43m,\u001b[49m\u001b[43m \u001b[49m\u001b[43mfill_value\u001b[49m\u001b[43m,\u001b[49m\u001b[43m \u001b[49m\u001b[43msort\u001b[49m\u001b[43m)\u001b[49m\n",
      "File \u001b[1;32m~\\AppData\\Roaming\\Python\\Python313\\site-packages\\pandas\\core\\reshape\\reshape.py:517\u001b[0m, in \u001b[0;36munstack\u001b[1;34m(obj, level, fill_value, sort)\u001b[0m\n\u001b[0;32m    515\u001b[0m \u001b[38;5;28;01mif\u001b[39;00m is_1d_only_ea_dtype(obj\u001b[38;5;241m.\u001b[39mdtype):\n\u001b[0;32m    516\u001b[0m     \u001b[38;5;28;01mreturn\u001b[39;00m _unstack_extension_series(obj, level, fill_value, sort\u001b[38;5;241m=\u001b[39msort)\n\u001b[1;32m--> 517\u001b[0m unstacker \u001b[38;5;241m=\u001b[39m \u001b[43m_Unstacker\u001b[49m\u001b[43m(\u001b[49m\n\u001b[0;32m    518\u001b[0m \u001b[43m    \u001b[49m\u001b[43mobj\u001b[49m\u001b[38;5;241;43m.\u001b[39;49m\u001b[43mindex\u001b[49m\u001b[43m,\u001b[49m\u001b[43m \u001b[49m\u001b[43mlevel\u001b[49m\u001b[38;5;241;43m=\u001b[39;49m\u001b[43mlevel\u001b[49m\u001b[43m,\u001b[49m\u001b[43m \u001b[49m\u001b[43mconstructor\u001b[49m\u001b[38;5;241;43m=\u001b[39;49m\u001b[43mobj\u001b[49m\u001b[38;5;241;43m.\u001b[39;49m\u001b[43m_constructor_expanddim\u001b[49m\u001b[43m,\u001b[49m\u001b[43m \u001b[49m\u001b[43msort\u001b[49m\u001b[38;5;241;43m=\u001b[39;49m\u001b[43msort\u001b[49m\n\u001b[0;32m    519\u001b[0m \u001b[43m\u001b[49m\u001b[43m)\u001b[49m\n\u001b[0;32m    520\u001b[0m \u001b[38;5;28;01mreturn\u001b[39;00m unstacker\u001b[38;5;241m.\u001b[39mget_result(\n\u001b[0;32m    521\u001b[0m     obj\u001b[38;5;241m.\u001b[39m_values, value_columns\u001b[38;5;241m=\u001b[39m\u001b[38;5;28;01mNone\u001b[39;00m, fill_value\u001b[38;5;241m=\u001b[39mfill_value\n\u001b[0;32m    522\u001b[0m )\n",
      "File \u001b[1;32m~\\AppData\\Roaming\\Python\\Python313\\site-packages\\pandas\\core\\reshape\\reshape.py:154\u001b[0m, in \u001b[0;36m_Unstacker.__init__\u001b[1;34m(self, index, level, constructor, sort)\u001b[0m\n\u001b[0;32m    146\u001b[0m \u001b[38;5;28;01mif\u001b[39;00m num_cells \u001b[38;5;241m>\u001b[39m np\u001b[38;5;241m.\u001b[39miinfo(np\u001b[38;5;241m.\u001b[39mint32)\u001b[38;5;241m.\u001b[39mmax:\n\u001b[0;32m    147\u001b[0m     warnings\u001b[38;5;241m.\u001b[39mwarn(\n\u001b[0;32m    148\u001b[0m         \u001b[38;5;124mf\u001b[39m\u001b[38;5;124m\"\u001b[39m\u001b[38;5;124mThe following operation may generate \u001b[39m\u001b[38;5;132;01m{\u001b[39;00mnum_cells\u001b[38;5;132;01m}\u001b[39;00m\u001b[38;5;124m cells \u001b[39m\u001b[38;5;124m\"\u001b[39m\n\u001b[0;32m    149\u001b[0m         \u001b[38;5;124mf\u001b[39m\u001b[38;5;124m\"\u001b[39m\u001b[38;5;124min the resulting pandas object.\u001b[39m\u001b[38;5;124m\"\u001b[39m,\n\u001b[0;32m    150\u001b[0m         PerformanceWarning,\n\u001b[0;32m    151\u001b[0m         stacklevel\u001b[38;5;241m=\u001b[39mfind_stack_level(),\n\u001b[0;32m    152\u001b[0m     )\n\u001b[1;32m--> 154\u001b[0m \u001b[38;5;28;43mself\u001b[39;49m\u001b[38;5;241;43m.\u001b[39;49m\u001b[43m_make_selectors\u001b[49m\u001b[43m(\u001b[49m\u001b[43m)\u001b[49m\n",
      "File \u001b[1;32m~\\AppData\\Roaming\\Python\\Python313\\site-packages\\pandas\\core\\reshape\\reshape.py:210\u001b[0m, in \u001b[0;36m_Unstacker._make_selectors\u001b[1;34m(self)\u001b[0m\n\u001b[0;32m    207\u001b[0m mask\u001b[38;5;241m.\u001b[39mput(selector, \u001b[38;5;28;01mTrue\u001b[39;00m)\n\u001b[0;32m    209\u001b[0m \u001b[38;5;28;01mif\u001b[39;00m mask\u001b[38;5;241m.\u001b[39msum() \u001b[38;5;241m<\u001b[39m \u001b[38;5;28mlen\u001b[39m(\u001b[38;5;28mself\u001b[39m\u001b[38;5;241m.\u001b[39mindex):\n\u001b[1;32m--> 210\u001b[0m     \u001b[38;5;28;01mraise\u001b[39;00m \u001b[38;5;167;01mValueError\u001b[39;00m(\u001b[38;5;124m\"\u001b[39m\u001b[38;5;124mIndex contains duplicate entries, cannot reshape\u001b[39m\u001b[38;5;124m\"\u001b[39m)\n\u001b[0;32m    212\u001b[0m \u001b[38;5;28mself\u001b[39m\u001b[38;5;241m.\u001b[39mgroup_index \u001b[38;5;241m=\u001b[39m comp_index\n\u001b[0;32m    213\u001b[0m \u001b[38;5;28mself\u001b[39m\u001b[38;5;241m.\u001b[39mmask \u001b[38;5;241m=\u001b[39m mask\n",
      "\u001b[1;31mValueError\u001b[0m: Index contains duplicate entries, cannot reshape"
     ]
    }
   ],
   "source": [
    "pivot3 = df.pivot(\n",
    "    index=\"Item\",\n",
    "    columns=\"Color\",\n",
    "    values=\"Units_in_stock\",\n",
    ")"
   ]
  },
  {
   "cell_type": "markdown",
   "metadata": {},
   "source": [
    "```py\n",
    "pandas.pivot_table(\n",
    "    data,\n",
    "    values=None,\n",
    "    index=None,\n",
    "    columns=None,\n",
    "    aggfunc=\"mean\",\n",
    ")\n",
    "```"
   ]
  },
  {
   "cell_type": "code",
   "execution_count": 98,
   "metadata": {},
   "outputs": [
    {
     "name": "stdout",
     "output_type": "stream",
     "text": [
      "              Price(Rs)  Units_in_stock\n",
      "Item   Color                           \n",
      "Pen    Blue        35.0            34.5\n",
      "       Red         17.5            30.0\n",
      "Pencil Black        6.0            40.5\n"
     ]
    }
   ],
   "source": [
    "df1 = df.pivot_table(index=[\"Item\", \"Color\"])\n",
    "print(df1)"
   ]
  },
  {
   "cell_type": "code",
   "execution_count": 103,
   "metadata": {},
   "outputs": [
    {
     "data": {
      "text/html": [
       "<div>\n",
       "<style scoped>\n",
       "    .dataframe tbody tr th:only-of-type {\n",
       "        vertical-align: middle;\n",
       "    }\n",
       "\n",
       "    .dataframe tbody tr th {\n",
       "        vertical-align: top;\n",
       "    }\n",
       "\n",
       "    .dataframe thead tr th {\n",
       "        text-align: left;\n",
       "    }\n",
       "\n",
       "    .dataframe thead tr:last-of-type th {\n",
       "        text-align: right;\n",
       "    }\n",
       "</style>\n",
       "<table border=\"1\" class=\"dataframe\">\n",
       "  <thead>\n",
       "    <tr>\n",
       "      <th></th>\n",
       "      <th colspan=\"3\" halign=\"left\">sum</th>\n",
       "      <th colspan=\"3\" halign=\"left\">max</th>\n",
       "      <th colspan=\"3\" halign=\"left\">mean</th>\n",
       "    </tr>\n",
       "    <tr>\n",
       "      <th>Color</th>\n",
       "      <th>Black</th>\n",
       "      <th>Blue</th>\n",
       "      <th>Red</th>\n",
       "      <th>Black</th>\n",
       "      <th>Blue</th>\n",
       "      <th>Red</th>\n",
       "      <th>Black</th>\n",
       "      <th>Blue</th>\n",
       "      <th>Red</th>\n",
       "    </tr>\n",
       "    <tr>\n",
       "      <th>Item</th>\n",
       "      <th></th>\n",
       "      <th></th>\n",
       "      <th></th>\n",
       "      <th></th>\n",
       "      <th></th>\n",
       "      <th></th>\n",
       "      <th></th>\n",
       "      <th></th>\n",
       "      <th></th>\n",
       "    </tr>\n",
       "  </thead>\n",
       "  <tbody>\n",
       "    <tr>\n",
       "      <th>Pen</th>\n",
       "      <td>NaN</td>\n",
       "      <td>69.0</td>\n",
       "      <td>60.0</td>\n",
       "      <td>NaN</td>\n",
       "      <td>55.0</td>\n",
       "      <td>50.0</td>\n",
       "      <td>NaN</td>\n",
       "      <td>34.5</td>\n",
       "      <td>30.0</td>\n",
       "    </tr>\n",
       "    <tr>\n",
       "      <th>Pencil</th>\n",
       "      <td>81.0</td>\n",
       "      <td>NaN</td>\n",
       "      <td>NaN</td>\n",
       "      <td>47.0</td>\n",
       "      <td>NaN</td>\n",
       "      <td>NaN</td>\n",
       "      <td>40.5</td>\n",
       "      <td>NaN</td>\n",
       "      <td>NaN</td>\n",
       "    </tr>\n",
       "  </tbody>\n",
       "</table>\n",
       "</div>"
      ],
      "text/plain": [
       "         sum               max              mean            \n",
       "Color  Black  Blue   Red Black  Blue   Red Black  Blue   Red\n",
       "Item                                                        \n",
       "Pen      NaN  69.0  60.0   NaN  55.0  50.0   NaN  34.5  30.0\n",
       "Pencil  81.0   NaN   NaN  47.0   NaN   NaN  40.5   NaN   NaN"
      ]
     },
     "execution_count": 103,
     "metadata": {},
     "output_type": "execute_result"
    }
   ],
   "source": [
    "pivot_table1 = df.pivot_table(\n",
    "    index=\"Item\",\n",
    "    columns=\"Color\",\n",
    "    values=\"Units_in_stock\",\n",
    "    aggfunc=[\"sum\", \"max\", \"mean\"],\n",
    ")\n",
    "\n",
    "pivot_table1"
   ]
  },
  {
   "cell_type": "code",
   "execution_count": 478,
   "metadata": {},
   "outputs": [
    {
     "data": {
      "text/html": [
       "<div>\n",
       "<style scoped>\n",
       "    .dataframe tbody tr th:only-of-type {\n",
       "        vertical-align: middle;\n",
       "    }\n",
       "\n",
       "    .dataframe tbody tr th {\n",
       "        vertical-align: top;\n",
       "    }\n",
       "\n",
       "    .dataframe thead tr th {\n",
       "        text-align: left;\n",
       "    }\n",
       "\n",
       "    .dataframe thead tr:last-of-type th {\n",
       "        text-align: right;\n",
       "    }\n",
       "</style>\n",
       "<table border=\"1\" class=\"dataframe\">\n",
       "  <thead>\n",
       "    <tr>\n",
       "      <th></th>\n",
       "      <th colspan=\"3\" halign=\"left\">Price(Rs)</th>\n",
       "      <th colspan=\"3\" halign=\"left\">Units_in_stock</th>\n",
       "    </tr>\n",
       "    <tr>\n",
       "      <th>Color</th>\n",
       "      <th>Black</th>\n",
       "      <th>Blue</th>\n",
       "      <th>Red</th>\n",
       "      <th>Black</th>\n",
       "      <th>Blue</th>\n",
       "      <th>Red</th>\n",
       "    </tr>\n",
       "    <tr>\n",
       "      <th>Item</th>\n",
       "      <th></th>\n",
       "      <th></th>\n",
       "      <th></th>\n",
       "      <th></th>\n",
       "      <th></th>\n",
       "      <th></th>\n",
       "    </tr>\n",
       "  </thead>\n",
       "  <tbody>\n",
       "    <tr>\n",
       "      <th>Pen</th>\n",
       "      <td>NaN</td>\n",
       "      <td>2.0</td>\n",
       "      <td>2.0</td>\n",
       "      <td>NaN</td>\n",
       "      <td>34.5</td>\n",
       "      <td>30.0</td>\n",
       "    </tr>\n",
       "    <tr>\n",
       "      <th>Pencil</th>\n",
       "      <td>2.0</td>\n",
       "      <td>NaN</td>\n",
       "      <td>NaN</td>\n",
       "      <td>40.5</td>\n",
       "      <td>NaN</td>\n",
       "      <td>NaN</td>\n",
       "    </tr>\n",
       "  </tbody>\n",
       "</table>\n",
       "</div>"
      ],
      "text/plain": [
       "       Price(Rs)           Units_in_stock            \n",
       "Color      Black Blue  Red          Black  Blue   Red\n",
       "Item                                                 \n",
       "Pen          NaN  2.0  2.0            NaN  34.5  30.0\n",
       "Pencil       2.0  NaN  NaN           40.5   NaN   NaN"
      ]
     },
     "execution_count": 478,
     "metadata": {},
     "output_type": "execute_result"
    }
   ],
   "source": [
    "pivot_table1 = df.pivot_table(\n",
    "    index=\"Item\",\n",
    "    columns=\"Color\",\n",
    "    values=[\"Price(Rs)\", \"Units_in_stock\"],\n",
    "    aggfunc={\"Price(Rs)\": len, \"Units_in_stock\": \"mean\"},\n",
    ")\n",
    "\n",
    "pivot_table1"
   ]
  },
  {
   "cell_type": "code",
   "execution_count": 105,
   "metadata": {},
   "outputs": [
    {
     "name": "stdout",
     "output_type": "stream",
     "text": [
      "            max    \n",
      "      Price(Rs)    \n",
      "Color      Blue Red\n",
      "Item               \n",
      "Pen          50  25\n"
     ]
    }
   ],
   "source": [
    "dfpen = df[df.Item == \"Pen\"]\n",
    "pivot_redpen = dfpen.pivot_table(\n",
    "    index=\"Item\",\n",
    "    columns=[\"Color\"],\n",
    "    values=[\"Price(Rs)\"],\n",
    "    aggfunc=[\"max\"],\n",
    ")\n",
    "\n",
    "print(pivot_redpen)"
   ]
  },
  {
   "cell_type": "code",
   "execution_count": 107,
   "metadata": {},
   "outputs": [
    {
     "name": "stdout",
     "output_type": "stream",
     "text": [
      "     Name     UT  Maths  Science   S.St  Hindi    Eng\n",
      "0   False  False  False    False  False  False  False\n",
      "1   False  False  False    False  False  False  False\n",
      "2   False  False  False    False  False  False  False\n",
      "3   False  False   True     True  False  False   True\n",
      "4   False  False  False    False  False  False  False\n",
      "5   False  False  False    False  False  False  False\n",
      "6   False  False  False    False  False  False  False\n",
      "7   False  False  False    False  False  False  False\n",
      "8   False  False  False    False  False  False  False\n",
      "9   False  False  False    False  False  False  False\n",
      "10  False  False  False    False  False  False  False\n",
      "11  False  False  False    False  False  False  False\n",
      "12  False  False  False    False  False  False  False\n",
      "13  False  False  False    False  False  False  False\n",
      "14  False  False  False    False  False  False  False\n",
      "15  False  False  False    False  False  False  False\n"
     ]
    }
   ],
   "source": [
    "import numpy as np\n",
    "\n",
    "marksUT = {\n",
    "    \"Name\": [\n",
    "        \"Raman\",\n",
    "        \"Raman\",\n",
    "        \"Raman\",\n",
    "        \"Raman\",\n",
    "        \"Zuhaire\",\n",
    "        \"Zuhaire\",\n",
    "        \"Zuhaire\",\n",
    "        \"Zuhaire\",\n",
    "        \"Ashravy\",\n",
    "        \"Ashravy\",\n",
    "        \"Ashravy\",\n",
    "        \"Ashravy\",\n",
    "        \"Mishti\",\n",
    "        \"Mishti\",\n",
    "        \"Mishti\",\n",
    "        \"Mishti\",\n",
    "    ],\n",
    "    \"UT\": [1, 2, 3, 4, 1, 2, 3, 4, 1, 2, 3, 4, 1, 2, 3, 4],\n",
    "    \"Maths\": [22, 21, 14, np.nan, 20, 23, 22, 19, 23, 24, 12, 15, 15, 18, 17, 14],\n",
    "    \"Science\": [21, 20, 19, np.nan, 17, 15, 18, 20, 19, 22, 25, 20, 22, 21, 18, 20],\n",
    "    \"S.St\": [18, 17, 15, 19, 22, 21, 19, 17, 20, 24, 19, 20, 25, 25, 20, 19],\n",
    "    \"Hindi\": [20, 22, 24, 18, 24, 25, 23, 21, 15, 17, 21, 20, 22, 24, 25, 20],\n",
    "    \"Eng\": [21, 24, 23, np.nan, 19, 15, 13, 16, 22, 21, 23, 17, 22, 23, 20, 18],\n",
    "}\n",
    "\n",
    "df = pd.DataFrame(marksUT)\n",
    "\n",
    "print(df.isnull())"
   ]
  },
  {
   "cell_type": "code",
   "execution_count": 108,
   "metadata": {},
   "outputs": [
    {
     "name": "stdout",
     "output_type": "stream",
     "text": [
      "0     False\n",
      "1     False\n",
      "2     False\n",
      "3      True\n",
      "4     False\n",
      "5     False\n",
      "6     False\n",
      "7     False\n",
      "8     False\n",
      "9     False\n",
      "10    False\n",
      "11    False\n",
      "12    False\n",
      "13    False\n",
      "14    False\n",
      "15    False\n",
      "Name: Science, dtype: bool\n"
     ]
    }
   ],
   "source": [
    "print(df[\"Science\"].isnull())"
   ]
  },
  {
   "cell_type": "code",
   "execution_count": 109,
   "metadata": {},
   "outputs": [
    {
     "name": "stdout",
     "output_type": "stream",
     "text": [
      "Name       False\n",
      "UT         False\n",
      "Maths       True\n",
      "Science     True\n",
      "S.St       False\n",
      "Hindi      False\n",
      "Eng         True\n",
      "dtype: bool\n"
     ]
    }
   ],
   "source": [
    "print(df.isnull().any())"
   ]
  },
  {
   "cell_type": "code",
   "execution_count": 110,
   "metadata": {},
   "outputs": [
    {
     "name": "stdout",
     "output_type": "stream",
     "text": [
      "True\n"
     ]
    }
   ],
   "source": [
    "print(df[\"Science\"].isnull().any())"
   ]
  },
  {
   "cell_type": "code",
   "execution_count": 111,
   "metadata": {},
   "outputs": [
    {
     "name": "stdout",
     "output_type": "stream",
     "text": [
      "False\n"
     ]
    }
   ],
   "source": [
    "print(df[\"Hindi\"].isnull().any())"
   ]
  },
  {
   "cell_type": "code",
   "execution_count": 112,
   "metadata": {},
   "outputs": [
    {
     "name": "stdout",
     "output_type": "stream",
     "text": [
      "Name       0\n",
      "UT         0\n",
      "Maths      1\n",
      "Science    1\n",
      "S.St       0\n",
      "Hindi      0\n",
      "Eng        1\n",
      "dtype: int64\n"
     ]
    }
   ],
   "source": [
    "print(df.isnull().sum())"
   ]
  },
  {
   "cell_type": "code",
   "execution_count": 113,
   "metadata": {},
   "outputs": [
    {
     "name": "stdout",
     "output_type": "stream",
     "text": [
      "3\n"
     ]
    }
   ],
   "source": [
    "print(df.isnull().sum().sum())"
   ]
  },
  {
   "cell_type": "code",
   "execution_count": 115,
   "metadata": {},
   "outputs": [
    {
     "name": "stdout",
     "output_type": "stream",
     "text": [
      "Marks Scored by Raman:\n",
      "\n",
      "    Name  UT  Maths  Science  S.St  Hindi   Eng\n",
      "0  Raman   1   22.0     21.0    18     20  21.0\n",
      "1  Raman   2   21.0     20.0    17     22  24.0\n",
      "2  Raman   3   14.0     19.0    15     24  23.0\n",
      "3  Raman   4    NaN      NaN    19     18   NaN\n"
     ]
    }
   ],
   "source": [
    "dfRaman = df[df[\"Name\"] == \"Raman\"]\n",
    "print(\"Marks Scored by Raman:\\n\")\n",
    "print(dfRaman)"
   ]
  },
  {
   "cell_type": "code",
   "execution_count": 116,
   "metadata": {},
   "outputs": [
    {
     "name": "stdout",
     "output_type": "stream",
     "text": [
      "Marks Scored by Raman in Hindi:\n",
      "\n",
      "0    20\n",
      "1    22\n",
      "2    24\n",
      "3    18\n",
      "Name: Hindi, dtype: int64\n"
     ]
    }
   ],
   "source": [
    "dfHindi = dfRaman[\"Hindi\"]\n",
    "print(\"Marks Scored by Raman in Hindi:\\n\")\n",
    "print(dfHindi)"
   ]
  },
  {
   "cell_type": "code",
   "execution_count": 118,
   "metadata": {},
   "outputs": [
    {
     "name": "stdout",
     "output_type": "stream",
     "text": [
      "Percentage of Marks Scored by Ramanin Hindi:\n",
      "\n",
      "84.0%\n"
     ]
    }
   ],
   "source": [
    "# Number of Unit Tests held. Here row will be 4\n",
    "row = len(dfHindi)\n",
    "\n",
    "print(\"Percentage of Marks Scored by Ramanin Hindi:\\n\")\n",
    "print((dfHindi.sum() * 100) / (25 * row), \"%\", sep=\"\")"
   ]
  },
  {
   "cell_type": "code",
   "execution_count": 120,
   "metadata": {},
   "outputs": [
    {
     "name": "stdout",
     "output_type": "stream",
     "text": [
      "Marks Scored by Raman in Maths:\n",
      "\n",
      "0    22.0\n",
      "1    21.0\n",
      "2    14.0\n",
      "3     NaN\n",
      "Name: Maths, dtype: float64\n"
     ]
    }
   ],
   "source": [
    "dfMaths = dfRaman[\"Maths\"]\n",
    "print(\"Marks Scored by Raman in Maths:\\n\")\n",
    "print(dfMaths)"
   ]
  },
  {
   "cell_type": "code",
   "execution_count": 121,
   "metadata": {},
   "outputs": [
    {
     "name": "stdout",
     "output_type": "stream",
     "text": [
      "Percentage of Marks Scored by Ramanin Maths\n",
      "\n",
      "57.0%\n"
     ]
    }
   ],
   "source": [
    "# here, row will be 4,the number of Unit Tests\n",
    "row = len(dfMaths)\n",
    "\n",
    "print(\"Percentage of Marks Scored by Ramanin Maths\\n\")\n",
    "print(dfMaths.sum() * 100 / (25 * row), \"%\", sep=\"\")"
   ]
  },
  {
   "cell_type": "code",
   "execution_count": 122,
   "metadata": {},
   "outputs": [
    {
     "name": "stdout",
     "output_type": "stream",
     "text": [
      "       Name  UT  Maths  Science  S.St  Hindi   Eng\n",
      "0     Raman   1   22.0     21.0    18     20  21.0\n",
      "1     Raman   2   21.0     20.0    17     22  24.0\n",
      "2     Raman   3   14.0     19.0    15     24  23.0\n",
      "4   Zuhaire   1   20.0     17.0    22     24  19.0\n",
      "5   Zuhaire   2   23.0     15.0    21     25  15.0\n",
      "6   Zuhaire   3   22.0     18.0    19     23  13.0\n",
      "7   Zuhaire   4   19.0     20.0    17     21  16.0\n",
      "8   Ashravy   1   23.0     19.0    20     15  22.0\n",
      "9   Ashravy   2   24.0     22.0    24     17  21.0\n",
      "10  Ashravy   3   12.0     25.0    19     21  23.0\n",
      "11  Ashravy   4   15.0     20.0    20     20  17.0\n",
      "12   Mishti   1   15.0     22.0    25     22  22.0\n",
      "13   Mishti   2   18.0     21.0    25     24  23.0\n",
      "14   Mishti   3   17.0     18.0    20     25  20.0\n",
      "15   Mishti   4   14.0     20.0    19     20  18.0\n"
     ]
    }
   ],
   "source": [
    "df1 = df.dropna()\n",
    "print(df1)"
   ]
  },
  {
   "cell_type": "code",
   "execution_count": 123,
   "metadata": {},
   "outputs": [
    {
     "name": "stdout",
     "output_type": "stream",
     "text": [
      "Marks Scored by Raman in Maths:\n",
      "\n",
      "0    22.0\n",
      "1    21.0\n",
      "2    14.0\n",
      "Name: Maths, dtype: float64\n"
     ]
    },
    {
     "name": "stderr",
     "output_type": "stream",
     "text": [
      "C:\\Users\\laksh\\AppData\\Local\\Temp\\ipykernel_16444\\1986829903.py:5: SettingWithCopyWarning: \n",
      "A value is trying to be set on a copy of a slice from a DataFrame\n",
      "\n",
      "See the caveats in the documentation: https://pandas.pydata.org/pandas-docs/stable/user_guide/indexing.html#returning-a-view-versus-a-copy\n",
      "  dfRaman.dropna(inplace=True, how=\"any\")\n"
     ]
    }
   ],
   "source": [
    "# marks obtained by Raman in all the unit tests\n",
    "dfRaman = df[df.Name == \"Raman\"]\n",
    "\n",
    "# inplace=true makes changes in the originalDataFrame i.e. dfRaman here\n",
    "dfRaman.dropna(inplace=True, how=\"any\")\n",
    "\n",
    "# get the marksscored in Maths\n",
    "dfMaths = dfRaman[\"Maths\"]\n",
    "\n",
    "print(\"Marks Scored by Raman in Maths:\\n\")\n",
    "print(dfMaths)"
   ]
  },
  {
   "cell_type": "code",
   "execution_count": 124,
   "metadata": {},
   "outputs": [
    {
     "name": "stdout",
     "output_type": "stream",
     "text": [
      "Percentage of Marks Scored byRaman in Maths:\n",
      "\n",
      "76.0%\n"
     ]
    }
   ],
   "source": [
    "row = len(dfMaths)\n",
    "print(\"Percentage of Marks Scored byRaman in Maths:\\n\")\n",
    "print(dfMaths.sum() * 100 / (25 * row), \"%\", sep=\"\")"
   ]
  },
  {
   "cell_type": "code",
   "execution_count": 125,
   "metadata": {},
   "outputs": [
    {
     "name": "stdout",
     "output_type": "stream",
     "text": [
      "Marks Scored by Raman in Science:\n",
      "\n",
      "0    21.0\n",
      "1    20.0\n",
      "2    19.0\n",
      "3     NaN\n",
      "Name: Science, dtype: float64\n"
     ]
    }
   ],
   "source": [
    "# Marks Scored by Raman in all the subjects across the tests\n",
    "dfRaman = df.loc[df[\"Name\"] == \"Raman\"]\n",
    "(row, col) = dfRaman.shape\n",
    "\n",
    "dfScience = dfRaman.loc[:, \"Science\"]\n",
    "print(\"Marks Scored by Raman in Science:\\n\")\n",
    "print(dfScience)"
   ]
  },
  {
   "cell_type": "code",
   "execution_count": 126,
   "metadata": {},
   "outputs": [
    {
     "name": "stdout",
     "output_type": "stream",
     "text": [
      "Marks Scored by Raman in Science with Missing Values Replaced with Zero:\n",
      "\n",
      "0    21.0\n",
      "1    20.0\n",
      "2    19.0\n",
      "3     0.0\n",
      "Name: Science, dtype: float64\n"
     ]
    }
   ],
   "source": [
    "dfFillZeroScience = dfScience.fillna(0)\n",
    "\n",
    "print(\"Marks Scored by Raman in Science with Missing Values Replaced with Zero:\\n\")\n",
    "print(dfFillZeroScience)"
   ]
  },
  {
   "cell_type": "code",
   "execution_count": 127,
   "metadata": {},
   "outputs": [
    {
     "name": "stdout",
     "output_type": "stream",
     "text": [
      "Percentage of Marks Scored by Raman in Science:\n",
      "\n",
      "60.0%\n"
     ]
    }
   ],
   "source": [
    "print(\"Percentage of Marks Scored by Raman in Science:\\n\")\n",
    "print(dfFillZeroScience.sum() * 100 / (25 * row), \"%\", sep=\"\")"
   ]
  },
  {
   "cell_type": "code",
   "execution_count": 129,
   "metadata": {},
   "outputs": [
    {
     "name": "stdout",
     "output_type": "stream",
     "text": [
      "Marks Scored by Raman in English:\n",
      "\n",
      "0    21.0\n",
      "1    24.0\n",
      "2    23.0\n",
      "3     NaN\n",
      "Name: Eng, dtype: float64\n"
     ]
    }
   ],
   "source": [
    "dfEng = dfRaman.loc[:, \"Eng\"]\n",
    "print(\"Marks Scored by Raman in English:\\n\")\n",
    "print(dfEng)"
   ]
  },
  {
   "cell_type": "code",
   "execution_count": 133,
   "metadata": {},
   "outputs": [
    {
     "name": "stdout",
     "output_type": "stream",
     "text": [
      "Marks Scored by Raman in English with Missing Values Replaced by Previous Test Marks:\n",
      "\n",
      "0    21.0\n",
      "1    24.0\n",
      "2    23.0\n",
      "3    23.0\n",
      "Name: Eng, dtype: float64\n"
     ]
    }
   ],
   "source": [
    "dfFillPadEng = dfEng.ffill()\n",
    "print(\n",
    "    \"Marks Scored by Raman in English with Missing Values Replaced by Previous Test Marks:\\n\"\n",
    ")\n",
    "print(dfFillPadEng)"
   ]
  },
  {
   "cell_type": "code",
   "execution_count": 134,
   "metadata": {},
   "outputs": [
    {
     "name": "stdout",
     "output_type": "stream",
     "text": [
      "Percentage of Marks Scored by Raman in English:\n",
      "\n",
      "91.0%\n"
     ]
    }
   ],
   "source": [
    "print(\"Percentage of Marks Scored by Raman in English:\\n\")\n",
    "print(dfFillPadEng.sum() * 100 / (25 * row), \"%\", sep=\"\")"
   ]
  }
 ],
 "metadata": {
  "kernelspec": {
   "display_name": "Python 3",
   "language": "python",
   "name": "python3"
  },
  "language_info": {
   "codemirror_mode": {
    "name": "ipython",
    "version": 3
   },
   "file_extension": ".py",
   "mimetype": "text/x-python",
   "name": "python",
   "nbconvert_exporter": "python",
   "pygments_lexer": "ipython3",
   "version": "3.13.0"
  }
 },
 "nbformat": 4,
 "nbformat_minor": 2
}
