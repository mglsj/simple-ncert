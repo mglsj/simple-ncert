{
 "cells": [
  {
   "cell_type": "code",
   "execution_count": null,
   "metadata": {},
   "outputs": [],
   "source": [
    "print(\"use of assert statement\")\n",
    "\n",
    "\n",
    "def negativecheck(number):\n",
    "    assert number >= 0, \"OOPS... Negative Number\"\n",
    "    print(number * number)\n",
    "\n",
    "\n",
    "print(negativecheck(100))\n",
    "print(negativecheck(-350))"
   ]
  }
 ],
 "metadata": {
  "kernelspec": {
   "display_name": "Python 3",
   "language": "python",
   "name": "python3"
  },
  "language_info": {
   "name": "python",
   "version": "3.13.0"
  }
 },
 "nbformat": 4,
 "nbformat_minor": 2
}
